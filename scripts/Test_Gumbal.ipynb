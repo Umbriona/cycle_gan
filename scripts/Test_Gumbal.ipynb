{
 "cells": [
  {
   "cell_type": "code",
   "execution_count": 1,
   "metadata": {},
   "outputs": [],
   "source": [
    "import os, sys\n",
    "d = os.path.dirname(os.getcwd())\n",
    "sys.path.append(d)\n",
    "\n",
    "import tensorflow as tf\n",
    "import matplotlib.pyplot as plt\n",
    "import numpy as np\n",
    "from utils.layers_new import GumbelSoftmax"
   ]
  },
  {
   "cell_type": "code",
   "execution_count": 2,
   "metadata": {},
   "outputs": [],
   "source": [
    "const_lin =  tf.constant([[1.0, 1.0, 3.0, 4.0],[10.0, 78.0, 5.0, 80.0]])\n",
    "const = tf.constant([[0.1, 0.15, 0.35, 0.4],[0.1, 0.05, 0.05, 0.8]])\n",
    "const_log = tf.math.log(const)\n",
    "layer_soft = tf.keras.layers.Softmax()\n",
    "layer = GumbelSoftmax(0.1)"
   ]
  },
  {
   "cell_type": "code",
   "execution_count": 5,
   "metadata": {},
   "outputs": [
    {
     "name": "stdout",
     "output_type": "stream",
     "text": [
      "[[3.3927526e-02 3.3927526e-02 2.5069240e-01 6.8145263e-01]\n",
      " [3.5015647e-31 1.1920292e-01 2.3593354e-33 8.8079703e-01]]\n"
     ]
    }
   ],
   "source": [
    "print(layer_soft(const_lin).numpy())"
   ]
  },
  {
   "cell_type": "code",
   "execution_count": 6,
   "metadata": {},
   "outputs": [],
   "source": [
    "idx = 0\n",
    "list_ = []\n",
    "mean = 0\n",
    "var = []\n",
    "for i in range(1000):\n",
    "    #c = layer(tf.math.log(layer_soft(const_lin))).numpy()[idx,:]\n",
    "    c = layer(const_lin).numpy()[idx,:]\n",
    "    list_.append(np.argmax(c))\n",
    "    mean += np.max(c)\n",
    "    var.append(np.max(c))\n",
    "mean /= 1000\n",
    "varience = np.std(var)"
   ]
  },
  {
   "cell_type": "code",
   "execution_count": 7,
   "metadata": {},
   "outputs": [
    {
     "data": {
      "text/plain": [
       "(array([0.048, 0.03 , 0.251, 0.671]),\n",
       " array([0, 1, 2, 3, 4]),\n",
       " <a list of 4 Patch objects>)"
      ]
     },
     "execution_count": 7,
     "metadata": {},
     "output_type": "execute_result"
    },
    {
     "data": {
      "image/png": "[encoded data removed]",
      "text/plain": [
       "<Figure size 432x288 with 1 Axes>"
      ]
     },
     "metadata": {
      "needs_background": "light"
     },
     "output_type": "display_data"
    }
   ],
   "source": [
    "plt.hist(list_, bins = [0,1,2,3,4], density=True, align=\"mid\", rwidth = 1)"
   ]
  },
  {
   "cell_type": "code",
   "execution_count": 8,
   "metadata": {},
   "outputs": [
    {
     "name": "stdout",
     "output_type": "stream",
     "text": [
      "0.966752332419157\n",
      "0.09705407\n"
     ]
    }
   ],
   "source": [
    "print(mean)\n",
    "print(varience)"
   ]
  },
  {
   "cell_type": "code",
   "execution_count": null,
   "metadata": {},
   "outputs": [],
   "source": []
  }
 ],
 "metadata": {
  "kernelspec": {
   "display_name": "Python 3",
   "language": "python",
   "name": "python3"
  },
  "language_info": {
   "codemirror_mode": {
    "name": "ipython",
    "version": 3
   },
   "file_extension": ".py",
   "mimetype": "text/x-python",
   "name": "python",
   "nbconvert_exporter": "python",
   "pygments_lexer": "ipython3",
   "version": "3.6.8"
  }
 },
 "nbformat": 4,
 "nbformat_minor": 4
}
