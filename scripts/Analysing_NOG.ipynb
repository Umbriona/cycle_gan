{
 "cells": [
  {
   "cell_type": "code",
   "execution_count": 85,
   "metadata": {},
   "outputs": [],
   "source": [
    "import pandas as pd\n"
   ]
  },
  {
   "cell_type": "code",
   "execution_count": 2,
   "metadata": {},
   "outputs": [],
   "source": [
    "file_thermo = \"../results/2021-01-12/NOG_ogt_70_81.emapper.annotations\"\n",
    "file_meso = \"../results/2021-01-12/NOG_ogt_4_15.emapper.annotations\"\n",
    "\n",
    "#! head $file_meso \n",
    "\n",
    "df_thermo = pd.read_table(file_thermo )\n",
    "df_meso   = pd.read_table(file_meso)\n",
    "\n",
    "df_all = pd.concat([df_meso, df_thermo], ignore_index=True)"
   ]
  },
  {
   "cell_type": "code",
   "execution_count": 3,
   "metadata": {},
   "outputs": [
    {
     "data": {
      "text/html": [
       "<div>\n",
       "<style scoped>\n",
       "    .dataframe tbody tr th:only-of-type {\n",
       "        vertical-align: middle;\n",
       "    }\n",
       "\n",
       "    .dataframe tbody tr th {\n",
       "        vertical-align: top;\n",
       "    }\n",
       "\n",
       "    .dataframe thead th {\n",
       "        text-align: right;\n",
       "    }\n",
       "</style>\n",
       "<table border=\"1\" class=\"dataframe\">\n",
       "  <thead>\n",
       "    <tr style=\"text-align: right;\">\n",
       "      <th></th>\n",
       "      <th>#query_name</th>\n",
       "      <th>seed_eggNOG_ortholog</th>\n",
       "      <th>seed_ortholog_evalue</th>\n",
       "      <th>seed_ortholog_score</th>\n",
       "      <th>best_tax_level</th>\n",
       "      <th>Preferred_name</th>\n",
       "      <th>GOs</th>\n",
       "      <th>EC</th>\n",
       "      <th>KEGG_ko</th>\n",
       "      <th>KEGG_Pathway</th>\n",
       "      <th>...</th>\n",
       "      <th>KEGG_rclass</th>\n",
       "      <th>BRITE</th>\n",
       "      <th>KEGG_TC</th>\n",
       "      <th>CAZy</th>\n",
       "      <th>BiGG_Reaction</th>\n",
       "      <th>taxonomic scope</th>\n",
       "      <th>eggNOG OGs</th>\n",
       "      <th>best eggNOG OG</th>\n",
       "      <th>COG Functional cat.</th>\n",
       "      <th>eggNOG free text desc.</th>\n",
       "    </tr>\n",
       "  </thead>\n",
       "  <tbody>\n",
       "    <tr>\n",
       "      <th>0</th>\n",
       "      <td>A0A1I1QTV5</td>\n",
       "      <td>1117315.AHCA01000008_gene4130</td>\n",
       "      <td>0.000000e+00</td>\n",
       "      <td>1464.1</td>\n",
       "      <td>Pseudoalteromonadaceae</td>\n",
       "      <td>topA</td>\n",
       "      <td>GO:0003674,GO:0003824,GO:0003916,GO:0003917,GO...</td>\n",
       "      <td>5.99.1.2</td>\n",
       "      <td>ko:K03168</td>\n",
       "      <td>NaN</td>\n",
       "      <td>...</td>\n",
       "      <td>NaN</td>\n",
       "      <td>ko00000,ko01000,ko03032,ko03400</td>\n",
       "      <td>NaN</td>\n",
       "      <td>NaN</td>\n",
       "      <td>NaN</td>\n",
       "      <td>Bacteria</td>\n",
       "      <td>1MUFZ@1224,1RNZ2@1236,2Q04I@267888,COG0550@1,C...</td>\n",
       "      <td>NA|NA|NA</td>\n",
       "      <td>L</td>\n",
       "      <td>Releases the supercoiling and torsional tensio...</td>\n",
       "    </tr>\n",
       "    <tr>\n",
       "      <th>1</th>\n",
       "      <td>A0A1I1EJD3</td>\n",
       "      <td>87626.PTD2_13059</td>\n",
       "      <td>6.400000e-69</td>\n",
       "      <td>266.9</td>\n",
       "      <td>Pseudoalteromonadaceae</td>\n",
       "      <td>ispF</td>\n",
       "      <td>GO:0003674,GO:0003824,GO:0005488,GO:0005515,GO...</td>\n",
       "      <td>2.1.1.228,2.7.7.60,4.6.1.12</td>\n",
       "      <td>ko:K00554,ko:K00991,ko:K01770,ko:K12506</td>\n",
       "      <td>ko00900,ko01100,ko01110,ko01130,map00900,map01...</td>\n",
       "      <td>...</td>\n",
       "      <td>RC00002,RC00003,RC00334,RC01440</td>\n",
       "      <td>ko00000,ko00001,ko00002,ko01000,ko03016</td>\n",
       "      <td>NaN</td>\n",
       "      <td>NaN</td>\n",
       "      <td>iPC815.YPO3360</td>\n",
       "      <td>Bacteria</td>\n",
       "      <td>1MVHA@1224,1S3RQ@1236,2Q23B@267888,COG0245@1,C...</td>\n",
       "      <td>NA|NA|NA</td>\n",
       "      <td>I</td>\n",
       "      <td>Involved in the biosynthesis of isopentenyl di...</td>\n",
       "    </tr>\n",
       "    <tr>\n",
       "      <th>2</th>\n",
       "      <td>A0A1J0GEE6</td>\n",
       "      <td>931276.Cspa_c06990</td>\n",
       "      <td>7.800000e-145</td>\n",
       "      <td>520.0</td>\n",
       "      <td>Clostridiaceae</td>\n",
       "      <td>moaA</td>\n",
       "      <td>NaN</td>\n",
       "      <td>4.1.99.22</td>\n",
       "      <td>ko:K03639</td>\n",
       "      <td>ko00790,ko01100,ko04122,map00790,map01100,map0...</td>\n",
       "      <td>...</td>\n",
       "      <td>RC03420</td>\n",
       "      <td>ko00000,ko00001,ko01000</td>\n",
       "      <td>NaN</td>\n",
       "      <td>NaN</td>\n",
       "      <td>NaN</td>\n",
       "      <td>Bacteria</td>\n",
       "      <td>1TP89@1239,247PP@186801,36EQA@31979,COG2896@1,...</td>\n",
       "      <td>NA|NA|NA</td>\n",
       "      <td>H</td>\n",
       "      <td>Catalyzes the cyclization of GTP to (8S)-3',8-...</td>\n",
       "    </tr>\n",
       "    <tr>\n",
       "      <th>3</th>\n",
       "      <td>Q6LTY3</td>\n",
       "      <td>298386.PBPRA0829</td>\n",
       "      <td>9.100000e-192</td>\n",
       "      <td>676.0</td>\n",
       "      <td>Vibrionales</td>\n",
       "      <td>apbE</td>\n",
       "      <td>NaN</td>\n",
       "      <td>2.7.1.180</td>\n",
       "      <td>ko:K03734</td>\n",
       "      <td>NaN</td>\n",
       "      <td>...</td>\n",
       "      <td>NaN</td>\n",
       "      <td>ko00000,ko01000</td>\n",
       "      <td>NaN</td>\n",
       "      <td>NaN</td>\n",
       "      <td>NaN</td>\n",
       "      <td>Bacteria</td>\n",
       "      <td>1MW6K@1224,1RNMZ@1236,1XSQ4@135623,COG1477@1,C...</td>\n",
       "      <td>NA|NA|NA</td>\n",
       "      <td>H</td>\n",
       "      <td>Flavin transferase that catalyzes the transfer...</td>\n",
       "    </tr>\n",
       "    <tr>\n",
       "      <th>4</th>\n",
       "      <td>M9R2L0</td>\n",
       "      <td>391626.OAN307_c02110</td>\n",
       "      <td>1.500000e-266</td>\n",
       "      <td>924.9</td>\n",
       "      <td>Alphaproteobacteria</td>\n",
       "      <td>argH</td>\n",
       "      <td>GO:0003674,GO:0003824,GO:0004056,GO:0005575,GO...</td>\n",
       "      <td>4.3.2.1</td>\n",
       "      <td>ko:K01755</td>\n",
       "      <td>ko00220,ko00250,ko01100,ko01110,ko01130,ko0123...</td>\n",
       "      <td>...</td>\n",
       "      <td>RC00445,RC00447</td>\n",
       "      <td>ko00000,ko00001,ko00002,ko01000,ko04147</td>\n",
       "      <td>NaN</td>\n",
       "      <td>NaN</td>\n",
       "      <td>NaN</td>\n",
       "      <td>Bacteria</td>\n",
       "      <td>1MUTU@1224,2TR4H@28211,COG0165@1,COG0165@2</td>\n",
       "      <td>NA|NA|NA</td>\n",
       "      <td>E</td>\n",
       "      <td>argininosuccinate lyase</td>\n",
       "    </tr>\n",
       "  </tbody>\n",
       "</table>\n",
       "<p>5 rows × 22 columns</p>\n",
       "</div>"
      ],
      "text/plain": [
       "  #query_name           seed_eggNOG_ortholog  seed_ortholog_evalue  \\\n",
       "0  A0A1I1QTV5  1117315.AHCA01000008_gene4130          0.000000e+00   \n",
       "1  A0A1I1EJD3               87626.PTD2_13059          6.400000e-69   \n",
       "2  A0A1J0GEE6             931276.Cspa_c06990         7.800000e-145   \n",
       "3      Q6LTY3               298386.PBPRA0829         9.100000e-192   \n",
       "4      M9R2L0           391626.OAN307_c02110         1.500000e-266   \n",
       "\n",
       "   seed_ortholog_score          best_tax_level Preferred_name  \\\n",
       "0               1464.1  Pseudoalteromonadaceae           topA   \n",
       "1                266.9  Pseudoalteromonadaceae           ispF   \n",
       "2                520.0          Clostridiaceae           moaA   \n",
       "3                676.0             Vibrionales           apbE   \n",
       "4                924.9     Alphaproteobacteria           argH   \n",
       "\n",
       "                                                 GOs  \\\n",
       "0  GO:0003674,GO:0003824,GO:0003916,GO:0003917,GO...   \n",
       "1  GO:0003674,GO:0003824,GO:0005488,GO:0005515,GO...   \n",
       "2                                                NaN   \n",
       "3                                                NaN   \n",
       "4  GO:0003674,GO:0003824,GO:0004056,GO:0005575,GO...   \n",
       "\n",
       "                            EC                                  KEGG_ko  \\\n",
       "0                     5.99.1.2                                ko:K03168   \n",
       "1  2.1.1.228,2.7.7.60,4.6.1.12  ko:K00554,ko:K00991,ko:K01770,ko:K12506   \n",
       "2                    4.1.99.22                                ko:K03639   \n",
       "3                    2.7.1.180                                ko:K03734   \n",
       "4                      4.3.2.1                                ko:K01755   \n",
       "\n",
       "                                        KEGG_Pathway  ...  \\\n",
       "0                                                NaN  ...   \n",
       "1  ko00900,ko01100,ko01110,ko01130,map00900,map01...  ...   \n",
       "2  ko00790,ko01100,ko04122,map00790,map01100,map0...  ...   \n",
       "3                                                NaN  ...   \n",
       "4  ko00220,ko00250,ko01100,ko01110,ko01130,ko0123...  ...   \n",
       "\n",
       "                       KEGG_rclass                                    BRITE  \\\n",
       "0                              NaN          ko00000,ko01000,ko03032,ko03400   \n",
       "1  RC00002,RC00003,RC00334,RC01440  ko00000,ko00001,ko00002,ko01000,ko03016   \n",
       "2                          RC03420                  ko00000,ko00001,ko01000   \n",
       "3                              NaN                          ko00000,ko01000   \n",
       "4                  RC00445,RC00447  ko00000,ko00001,ko00002,ko01000,ko04147   \n",
       "\n",
       "  KEGG_TC CAZy   BiGG_Reaction taxonomic scope  \\\n",
       "0     NaN  NaN             NaN        Bacteria   \n",
       "1     NaN  NaN  iPC815.YPO3360        Bacteria   \n",
       "2     NaN  NaN             NaN        Bacteria   \n",
       "3     NaN  NaN             NaN        Bacteria   \n",
       "4     NaN  NaN             NaN        Bacteria   \n",
       "\n",
       "                                          eggNOG OGs best eggNOG OG  \\\n",
       "0  1MUFZ@1224,1RNZ2@1236,2Q04I@267888,COG0550@1,C...       NA|NA|NA   \n",
       "1  1MVHA@1224,1S3RQ@1236,2Q23B@267888,COG0245@1,C...       NA|NA|NA   \n",
       "2  1TP89@1239,247PP@186801,36EQA@31979,COG2896@1,...       NA|NA|NA   \n",
       "3  1MW6K@1224,1RNMZ@1236,1XSQ4@135623,COG1477@1,C...       NA|NA|NA   \n",
       "4         1MUTU@1224,2TR4H@28211,COG0165@1,COG0165@2       NA|NA|NA   \n",
       "\n",
       "  COG Functional cat.                             eggNOG free text desc.  \n",
       "0                   L  Releases the supercoiling and torsional tensio...  \n",
       "1                   I  Involved in the biosynthesis of isopentenyl di...  \n",
       "2                   H  Catalyzes the cyclization of GTP to (8S)-3',8-...  \n",
       "3                   H  Flavin transferase that catalyzes the transfer...  \n",
       "4                   E                            argininosuccinate lyase  \n",
       "\n",
       "[5 rows x 22 columns]"
      ]
     },
     "execution_count": 3,
     "metadata": {},
     "output_type": "execute_result"
    }
   ],
   "source": [
    "df_all.head(5)"
   ]
  },
  {
   "cell_type": "code",
   "execution_count": 4,
   "metadata": {},
   "outputs": [],
   "source": [
    "# Get the best OGs\n",
    "for i, row in df_all.iterrows():\n",
    "\n",
    "    for ogs in row['eggNOG OGs'].split(','):\n",
    "        score = int(ogs.split('@')[1])\n",
    "        if score == 1:\n",
    "            df_all.loc[i,('best eggNOG OG')] = ogs.split('@')[0]"
   ]
  },
  {
   "cell_type": "code",
   "execution_count": 5,
   "metadata": {},
   "outputs": [
    {
     "name": "stdout",
     "output_type": "stream",
     "text": [
      "COG0550\n"
     ]
    }
   ],
   "source": [
    "print(df_all['best eggNOG OG'].unique()[0])"
   ]
  },
  {
   "cell_type": "code",
   "execution_count": 6,
   "metadata": {},
   "outputs": [
    {
     "ename": "KeyError",
     "evalue": "'OGT'",
     "output_type": "error",
     "traceback": [
      "\u001b[0;31m---------------------------------------------------------------------------\u001b[0m",
      "\u001b[0;31mKeyError\u001b[0m                                  Traceback (most recent call last)",
      "\u001b[0;32m~/anaconda3/lib/python3.6/site-packages/pandas/core/indexes/base.py\u001b[0m in \u001b[0;36mget_loc\u001b[0;34m(self, key, method, tolerance)\u001b[0m\n\u001b[1;32m   2645\u001b[0m             \u001b[0;32mtry\u001b[0m\u001b[0;34m:\u001b[0m\u001b[0;34m\u001b[0m\u001b[0;34m\u001b[0m\u001b[0m\n\u001b[0;32m-> 2646\u001b[0;31m                 \u001b[0;32mreturn\u001b[0m \u001b[0mself\u001b[0m\u001b[0;34m.\u001b[0m\u001b[0m_engine\u001b[0m\u001b[0;34m.\u001b[0m\u001b[0mget_loc\u001b[0m\u001b[0;34m(\u001b[0m\u001b[0mkey\u001b[0m\u001b[0;34m)\u001b[0m\u001b[0;34m\u001b[0m\u001b[0;34m\u001b[0m\u001b[0m\n\u001b[0m\u001b[1;32m   2647\u001b[0m             \u001b[0;32mexcept\u001b[0m \u001b[0mKeyError\u001b[0m\u001b[0;34m:\u001b[0m\u001b[0;34m\u001b[0m\u001b[0;34m\u001b[0m\u001b[0m\n",
      "\u001b[0;32mpandas/_libs/index.pyx\u001b[0m in \u001b[0;36mpandas._libs.index.IndexEngine.get_loc\u001b[0;34m()\u001b[0m\n",
      "\u001b[0;32mpandas/_libs/index.pyx\u001b[0m in \u001b[0;36mpandas._libs.index.IndexEngine.get_loc\u001b[0;34m()\u001b[0m\n",
      "\u001b[0;32mpandas/_libs/hashtable_class_helper.pxi\u001b[0m in \u001b[0;36mpandas._libs.hashtable.PyObjectHashTable.get_item\u001b[0;34m()\u001b[0m\n",
      "\u001b[0;32mpandas/_libs/hashtable_class_helper.pxi\u001b[0m in \u001b[0;36mpandas._libs.hashtable.PyObjectHashTable.get_item\u001b[0;34m()\u001b[0m\n",
      "\u001b[0;31mKeyError\u001b[0m: 'OGT'",
      "\nDuring handling of the above exception, another exception occurred:\n",
      "\u001b[0;31mKeyError\u001b[0m                                  Traceback (most recent call last)",
      "\u001b[0;32m<ipython-input-6-693cfb149508>\u001b[0m in \u001b[0;36m<module>\u001b[0;34m\u001b[0m\n\u001b[0;32m----> 1\u001b[0;31m \u001b[0mprint\u001b[0m\u001b[0;34m(\u001b[0m\u001b[0mdf_all\u001b[0m\u001b[0;34m[\u001b[0m\u001b[0mdf_all\u001b[0m\u001b[0;34m[\u001b[0m\u001b[0;34m'best eggNOG OG'\u001b[0m\u001b[0;34m]\u001b[0m\u001b[0;34m==\u001b[0m\u001b[0;34m'COG0550'\u001b[0m\u001b[0;34m]\u001b[0m\u001b[0;34m[\u001b[0m\u001b[0;34m'OGT'\u001b[0m\u001b[0;34m]\u001b[0m\u001b[0;34m)\u001b[0m\u001b[0;34m\u001b[0m\u001b[0;34m\u001b[0m\u001b[0m\n\u001b[0m",
      "\u001b[0;32m~/anaconda3/lib/python3.6/site-packages/pandas/core/frame.py\u001b[0m in \u001b[0;36m__getitem__\u001b[0;34m(self, key)\u001b[0m\n\u001b[1;32m   2798\u001b[0m             \u001b[0;32mif\u001b[0m \u001b[0mself\u001b[0m\u001b[0;34m.\u001b[0m\u001b[0mcolumns\u001b[0m\u001b[0;34m.\u001b[0m\u001b[0mnlevels\u001b[0m \u001b[0;34m>\u001b[0m \u001b[0;36m1\u001b[0m\u001b[0;34m:\u001b[0m\u001b[0;34m\u001b[0m\u001b[0;34m\u001b[0m\u001b[0m\n\u001b[1;32m   2799\u001b[0m                 \u001b[0;32mreturn\u001b[0m \u001b[0mself\u001b[0m\u001b[0;34m.\u001b[0m\u001b[0m_getitem_multilevel\u001b[0m\u001b[0;34m(\u001b[0m\u001b[0mkey\u001b[0m\u001b[0;34m)\u001b[0m\u001b[0;34m\u001b[0m\u001b[0;34m\u001b[0m\u001b[0m\n\u001b[0;32m-> 2800\u001b[0;31m             \u001b[0mindexer\u001b[0m \u001b[0;34m=\u001b[0m \u001b[0mself\u001b[0m\u001b[0;34m.\u001b[0m\u001b[0mcolumns\u001b[0m\u001b[0;34m.\u001b[0m\u001b[0mget_loc\u001b[0m\u001b[0;34m(\u001b[0m\u001b[0mkey\u001b[0m\u001b[0;34m)\u001b[0m\u001b[0;34m\u001b[0m\u001b[0;34m\u001b[0m\u001b[0m\n\u001b[0m\u001b[1;32m   2801\u001b[0m             \u001b[0;32mif\u001b[0m \u001b[0mis_integer\u001b[0m\u001b[0;34m(\u001b[0m\u001b[0mindexer\u001b[0m\u001b[0;34m)\u001b[0m\u001b[0;34m:\u001b[0m\u001b[0;34m\u001b[0m\u001b[0;34m\u001b[0m\u001b[0m\n\u001b[1;32m   2802\u001b[0m                 \u001b[0mindexer\u001b[0m \u001b[0;34m=\u001b[0m \u001b[0;34m[\u001b[0m\u001b[0mindexer\u001b[0m\u001b[0;34m]\u001b[0m\u001b[0;34m\u001b[0m\u001b[0;34m\u001b[0m\u001b[0m\n",
      "\u001b[0;32m~/anaconda3/lib/python3.6/site-packages/pandas/core/indexes/base.py\u001b[0m in \u001b[0;36mget_loc\u001b[0;34m(self, key, method, tolerance)\u001b[0m\n\u001b[1;32m   2646\u001b[0m                 \u001b[0;32mreturn\u001b[0m \u001b[0mself\u001b[0m\u001b[0;34m.\u001b[0m\u001b[0m_engine\u001b[0m\u001b[0;34m.\u001b[0m\u001b[0mget_loc\u001b[0m\u001b[0;34m(\u001b[0m\u001b[0mkey\u001b[0m\u001b[0;34m)\u001b[0m\u001b[0;34m\u001b[0m\u001b[0;34m\u001b[0m\u001b[0m\n\u001b[1;32m   2647\u001b[0m             \u001b[0;32mexcept\u001b[0m \u001b[0mKeyError\u001b[0m\u001b[0;34m:\u001b[0m\u001b[0;34m\u001b[0m\u001b[0;34m\u001b[0m\u001b[0m\n\u001b[0;32m-> 2648\u001b[0;31m                 \u001b[0;32mreturn\u001b[0m \u001b[0mself\u001b[0m\u001b[0;34m.\u001b[0m\u001b[0m_engine\u001b[0m\u001b[0;34m.\u001b[0m\u001b[0mget_loc\u001b[0m\u001b[0;34m(\u001b[0m\u001b[0mself\u001b[0m\u001b[0;34m.\u001b[0m\u001b[0m_maybe_cast_indexer\u001b[0m\u001b[0;34m(\u001b[0m\u001b[0mkey\u001b[0m\u001b[0;34m)\u001b[0m\u001b[0;34m)\u001b[0m\u001b[0;34m\u001b[0m\u001b[0;34m\u001b[0m\u001b[0m\n\u001b[0m\u001b[1;32m   2649\u001b[0m         \u001b[0mindexer\u001b[0m \u001b[0;34m=\u001b[0m \u001b[0mself\u001b[0m\u001b[0;34m.\u001b[0m\u001b[0mget_indexer\u001b[0m\u001b[0;34m(\u001b[0m\u001b[0;34m[\u001b[0m\u001b[0mkey\u001b[0m\u001b[0;34m]\u001b[0m\u001b[0;34m,\u001b[0m \u001b[0mmethod\u001b[0m\u001b[0;34m=\u001b[0m\u001b[0mmethod\u001b[0m\u001b[0;34m,\u001b[0m \u001b[0mtolerance\u001b[0m\u001b[0;34m=\u001b[0m\u001b[0mtolerance\u001b[0m\u001b[0;34m)\u001b[0m\u001b[0;34m\u001b[0m\u001b[0;34m\u001b[0m\u001b[0m\n\u001b[1;32m   2650\u001b[0m         \u001b[0;32mif\u001b[0m \u001b[0mindexer\u001b[0m\u001b[0;34m.\u001b[0m\u001b[0mndim\u001b[0m \u001b[0;34m>\u001b[0m \u001b[0;36m1\u001b[0m \u001b[0;32mor\u001b[0m \u001b[0mindexer\u001b[0m\u001b[0;34m.\u001b[0m\u001b[0msize\u001b[0m \u001b[0;34m>\u001b[0m \u001b[0;36m1\u001b[0m\u001b[0;34m:\u001b[0m\u001b[0;34m\u001b[0m\u001b[0;34m\u001b[0m\u001b[0m\n",
      "\u001b[0;32mpandas/_libs/index.pyx\u001b[0m in \u001b[0;36mpandas._libs.index.IndexEngine.get_loc\u001b[0;34m()\u001b[0m\n",
      "\u001b[0;32mpandas/_libs/index.pyx\u001b[0m in \u001b[0;36mpandas._libs.index.IndexEngine.get_loc\u001b[0;34m()\u001b[0m\n",
      "\u001b[0;32mpandas/_libs/hashtable_class_helper.pxi\u001b[0m in \u001b[0;36mpandas._libs.hashtable.PyObjectHashTable.get_item\u001b[0;34m()\u001b[0m\n",
      "\u001b[0;32mpandas/_libs/hashtable_class_helper.pxi\u001b[0m in \u001b[0;36mpandas._libs.hashtable.PyObjectHashTable.get_item\u001b[0;34m()\u001b[0m\n",
      "\u001b[0;31mKeyError\u001b[0m: 'OGT'"
     ]
    }
   ],
   "source": [
    "\n",
    "\n",
    "\n",
    "print(df_all[df_all['best eggNOG OG']=='COG0550']['OGT'])"
   ]
  },
  {
   "cell_type": "code",
   "execution_count": 88,
   "metadata": {},
   "outputs": [],
   "source": [
    "from Bio import SeqIO\n",
    "import os\n",
    "\n",
    "dir_ = '/mnt/Archive/Data_Sets/OGT/ogt_classes'\n",
    "\n",
    "fasta_thermo = os.path.join(dir_,'ogt_70_81.fasta')\n",
    "fasta_meso = os.path.join(dir_,'ogt_4_15.fasta')\n",
    "dict_fasta_ogt = {}\n",
    "dict_fasta_seq = {}\n",
    "for name in [fasta_meso, fasta_thermo]:\n",
    "    for rec in SeqIO.parse(name, 'fasta'):\n",
    "        dict_fasta_ogt[rec.id] = rec.description.split()[-1]\n",
    "        dict_fasta_seq[rec.id] = str(rec.seq)"
   ]
  },
  {
   "cell_type": "code",
   "execution_count": 9,
   "metadata": {},
   "outputs": [
    {
     "name": "stdout",
     "output_type": "stream",
     "text": [
      "13.0\n"
     ]
    }
   ],
   "source": [
    "print(dict_fasta_ogt['Q6LTY3'])"
   ]
  },
  {
   "cell_type": "code",
   "execution_count": 10,
   "metadata": {},
   "outputs": [],
   "source": [
    "temperatures=[]\n",
    "for i in df_all['#query_name']:\n",
    "    temperatures.append(dict_fasta_ogt[i])"
   ]
  },
  {
   "cell_type": "code",
   "execution_count": 11,
   "metadata": {},
   "outputs": [],
   "source": [
    "sequences = []\n",
    "for i in df_all['#query_name']:\n",
    "    sequences.append(dict_fasta_seq[i])"
   ]
  },
  {
   "cell_type": "code",
   "execution_count": 12,
   "metadata": {},
   "outputs": [],
   "source": [
    "df_all['OGT'] = temperatures\n",
    "df_all['seq'] = sequences"
   ]
  },
  {
   "cell_type": "code",
   "execution_count": 13,
   "metadata": {},
   "outputs": [],
   "source": [
    "# Creating fasta files with different ogts\n",
    "path = \"../results/OG_fasta\"\n",
    "for i, key in enumerate(df_all['best eggNOG OG'].unique()):\n",
    "    \n",
    "    df_tmp = df_all[df_all['best eggNOG OG']== key]\n",
    "    f = open(os.path.join(path, key+'_'+ str(len(df_tmp))+'.fasta'), 'w')\n",
    "    for index, row in df_tmp.iterrows():\n",
    "        f.write(\">{} {}\\n{}\\n\".format(row['#query_name'], row['OGT'], row['seq']))\n",
    "    f.close()"
   ]
  },
  {
   "cell_type": "code",
   "execution_count": 25,
   "metadata": {},
   "outputs": [
    {
     "ename": "TypeError",
     "evalue": "__init__() got an unexpected keyword argument 'capture_output'",
     "output_type": "error",
     "traceback": [
      "\u001b[0;31m---------------------------------------------------------------------------\u001b[0m",
      "\u001b[0;31mTypeError\u001b[0m                                 Traceback (most recent call last)",
      "\u001b[0;32m<ipython-input-25-9ad48dff49a9>\u001b[0m in \u001b[0;36m<module>\u001b[0;34m\u001b[0m\n\u001b[1;32m      6\u001b[0m \u001b[0;34m\u001b[0m\u001b[0m\n\u001b[1;32m      7\u001b[0m     \u001b[0;32mif\u001b[0m \u001b[0mint\u001b[0m\u001b[0;34m(\u001b[0m\u001b[0mfile_name\u001b[0m\u001b[0;34m.\u001b[0m\u001b[0msplit\u001b[0m\u001b[0;34m(\u001b[0m\u001b[0;34m'_'\u001b[0m\u001b[0;34m)\u001b[0m\u001b[0;34m[\u001b[0m\u001b[0;36m1\u001b[0m\u001b[0;34m]\u001b[0m\u001b[0;34m.\u001b[0m\u001b[0msplit\u001b[0m\u001b[0;34m(\u001b[0m\u001b[0;34m'.'\u001b[0m\u001b[0;34m)\u001b[0m\u001b[0;34m[\u001b[0m\u001b[0;36m0\u001b[0m\u001b[0;34m]\u001b[0m\u001b[0;34m)\u001b[0m \u001b[0;34m>\u001b[0m \u001b[0;36m10\u001b[0m\u001b[0;34m:\u001b[0m\u001b[0;34m\u001b[0m\u001b[0;34m\u001b[0m\u001b[0m\n\u001b[0;32m----> 8\u001b[0;31m         \u001b[0mresults\u001b[0m \u001b[0;34m=\u001b[0m \u001b[0msubprocess\u001b[0m\u001b[0;34m.\u001b[0m\u001b[0mrun\u001b[0m\u001b[0;34m(\u001b[0m\u001b[0;34m[\u001b[0m\u001b[0;34m\"clustalo\"\u001b[0m\u001b[0;34m,\u001b[0m \u001b[0;34m\"-i\"\u001b[0m\u001b[0;34m,\u001b[0m \u001b[0mos\u001b[0m\u001b[0;34m.\u001b[0m\u001b[0mpath\u001b[0m\u001b[0;34m.\u001b[0m\u001b[0mjoin\u001b[0m\u001b[0;34m(\u001b[0m\u001b[0mpath_fasta\u001b[0m\u001b[0;34m,\u001b[0m\u001b[0mfile_name\u001b[0m\u001b[0;34m)\u001b[0m\u001b[0;34m,\u001b[0m \u001b[0;34m\"--distmat-out\"\u001b[0m\u001b[0;34m,\u001b[0m \u001b[0mos\u001b[0m\u001b[0;34m.\u001b[0m\u001b[0mpath\u001b[0m\u001b[0;34m.\u001b[0m\u001b[0mjoin\u001b[0m\u001b[0;34m(\u001b[0m\u001b[0mpath_dist\u001b[0m\u001b[0;34m,\u001b[0m\u001b[0mfile_name\u001b[0m\u001b[0;34m.\u001b[0m\u001b[0msplit\u001b[0m\u001b[0;34m(\u001b[0m\u001b[0;34m'.'\u001b[0m\u001b[0;34m)\u001b[0m\u001b[0;34m[\u001b[0m\u001b[0;36m0\u001b[0m\u001b[0;34m]\u001b[0m\u001b[0;34m+\u001b[0m\u001b[0;34m\".mat\"\u001b[0m\u001b[0;34m)\u001b[0m\u001b[0;34m,\u001b[0m \u001b[0;34m'-o'\u001b[0m\u001b[0;34m,\u001b[0m \u001b[0mos\u001b[0m\u001b[0;34m.\u001b[0m\u001b[0mpath\u001b[0m\u001b[0;34m.\u001b[0m\u001b[0mjoin\u001b[0m\u001b[0;34m(\u001b[0m\u001b[0mpath_ali\u001b[0m\u001b[0;34m,\u001b[0m\u001b[0mfile_name\u001b[0m\u001b[0;34m.\u001b[0m\u001b[0msplit\u001b[0m\u001b[0;34m(\u001b[0m\u001b[0;34m'.'\u001b[0m\u001b[0;34m)\u001b[0m\u001b[0;34m[\u001b[0m\u001b[0;36m0\u001b[0m\u001b[0;34m]\u001b[0m\u001b[0;34m+\u001b[0m\u001b[0;34m\".ali\"\u001b[0m\u001b[0;34m)\u001b[0m\u001b[0;34m]\u001b[0m\u001b[0;34m,\u001b[0m \u001b[0mcapture_output\u001b[0m\u001b[0;34m=\u001b[0m\u001b[0;32mTrue\u001b[0m\u001b[0;34m,\u001b[0m \u001b[0mtext\u001b[0m\u001b[0;34m=\u001b[0m\u001b[0;32mTrue\u001b[0m\u001b[0;34m,\u001b[0m \u001b[0mshell\u001b[0m\u001b[0;34m=\u001b[0m\u001b[0;32mTrue\u001b[0m\u001b[0;34m)\u001b[0m\u001b[0;34m\u001b[0m\u001b[0;34m\u001b[0m\u001b[0m\n\u001b[0m\u001b[1;32m      9\u001b[0m         \u001b[0mprint\u001b[0m\u001b[0;34m(\u001b[0m\u001b[0;34m'stdout'\u001b[0m\u001b[0;34m,\u001b[0m \u001b[0mresults\u001b[0m\u001b[0;34m.\u001b[0m\u001b[0mstdout\u001b[0m\u001b[0;34m)\u001b[0m\u001b[0;34m\u001b[0m\u001b[0;34m\u001b[0m\u001b[0m\n",
      "\u001b[0;32m~/anaconda3/lib/python3.6/subprocess.py\u001b[0m in \u001b[0;36mrun\u001b[0;34m(input, timeout, check, *popenargs, **kwargs)\u001b[0m\n\u001b[1;32m    421\u001b[0m         \u001b[0mkwargs\u001b[0m\u001b[0;34m[\u001b[0m\u001b[0;34m'stdin'\u001b[0m\u001b[0;34m]\u001b[0m \u001b[0;34m=\u001b[0m \u001b[0mPIPE\u001b[0m\u001b[0;34m\u001b[0m\u001b[0;34m\u001b[0m\u001b[0m\n\u001b[1;32m    422\u001b[0m \u001b[0;34m\u001b[0m\u001b[0m\n\u001b[0;32m--> 423\u001b[0;31m     \u001b[0;32mwith\u001b[0m \u001b[0mPopen\u001b[0m\u001b[0;34m(\u001b[0m\u001b[0;34m*\u001b[0m\u001b[0mpopenargs\u001b[0m\u001b[0;34m,\u001b[0m \u001b[0;34m**\u001b[0m\u001b[0mkwargs\u001b[0m\u001b[0;34m)\u001b[0m \u001b[0;32mas\u001b[0m \u001b[0mprocess\u001b[0m\u001b[0;34m:\u001b[0m\u001b[0;34m\u001b[0m\u001b[0;34m\u001b[0m\u001b[0m\n\u001b[0m\u001b[1;32m    424\u001b[0m         \u001b[0;32mtry\u001b[0m\u001b[0;34m:\u001b[0m\u001b[0;34m\u001b[0m\u001b[0;34m\u001b[0m\u001b[0m\n\u001b[1;32m    425\u001b[0m             \u001b[0mstdout\u001b[0m\u001b[0;34m,\u001b[0m \u001b[0mstderr\u001b[0m \u001b[0;34m=\u001b[0m \u001b[0mprocess\u001b[0m\u001b[0;34m.\u001b[0m\u001b[0mcommunicate\u001b[0m\u001b[0;34m(\u001b[0m\u001b[0minput\u001b[0m\u001b[0;34m,\u001b[0m \u001b[0mtimeout\u001b[0m\u001b[0;34m=\u001b[0m\u001b[0mtimeout\u001b[0m\u001b[0;34m)\u001b[0m\u001b[0;34m\u001b[0m\u001b[0;34m\u001b[0m\u001b[0m\n",
      "\u001b[0;31mTypeError\u001b[0m: __init__() got an unexpected keyword argument 'capture_output'"
     ]
    }
   ],
   "source": [
    "import subprocess\n",
    "path_ali=\"../results/OG_ali\"\n",
    "path_dist=\"../results/OG_dist_mat\"\n",
    "path_fasta=\"../results/OG_fasta\"\n",
    "for file_name in os.listdir(path_fasta):\n",
    "\n",
    "    if int(file_name.split('_')[1].split('.')[0]) > 10:\n",
    "        results = subprocess.run([\"clustalo\", \"-i\", os.path.join(path_fasta,file_name), \"--distmat-out\", os.path.join(path_dist,file_name.split('.')[0]+\".mat\"), '-o', os.path.join(path_ali,file_name.split('.')[0]+\".ali\")], capture_output=True, text=True, shell=True)\n",
    "        print('stdout', results.stdout)"
   ]
  },
  {
   "cell_type": "code",
   "execution_count": 76,
   "metadata": {},
   "outputs": [],
   "source": [
    "! clustalo -i \"../results/OG_fasta/COG0066_52.fasta\" --distmat-out \"COG0066_52.mat\" -o \"COG0066_52.ali\" --full --use-kimura --force"
   ]
  },
  {
   "cell_type": "code",
   "execution_count": 107,
   "metadata": {},
   "outputs": [],
   "source": [
    "with open(\"COG0066_52.mat\", \"r\") as f:\n",
    "    string = f.read()\n",
    "dict_dist ={}\n",
    "for i in string.split('\\n')[1:-1]:\n",
    "    l = i.split(\" \")\n",
    "    l_ = []\n",
    "    for j in l[1:]:\n",
    "        try:\n",
    "            l_.append(float(j))\n",
    "        except:\n",
    "            pass\n",
    "        \n",
    "    dict_dist[l[0]] = l_\n",
    "df_dist = pd.DataFrame(dict_dist, index=dict_dist.keys())"
   ]
  },
  {
   "cell_type": "code",
   "execution_count": 78,
   "metadata": {},
   "outputs": [
    {
     "data": {
      "text/plain": [
       "A0A1Y5EEK0    0.635697\n",
       "A0A090IPI7    0.658539\n",
       "A0A0F5PXS8    0.667851\n",
       "K4IDE7        0.669622\n",
       "A1SVE8        0.675739\n",
       "A0A1H4E8K0    0.650931\n",
       "D4ZDV7        0.661905\n",
       "A0A1M7FHC4    0.674182\n",
       "M9RFT1        0.806439\n",
       "A4C0Z1        0.690892\n",
       "M9RA62        0.713788\n",
       "A0A0M5TIR9    0.675102\n",
       "A0A1W1VZE0    0.662105\n",
       "A0A099KH96    0.639427\n",
       "Q47WG1        0.636367\n",
       "M9RKK4        0.679342\n",
       "Q1Z4R0        0.660976\n",
       "A0A1M5FC25    0.679708\n",
       "A0A1I3AE50    0.684640\n",
       "A0A099L073    0.656275\n",
       "A0A1H0FGW8    0.687403\n",
       "V9S6Q4        0.596340\n",
       "N6UZZ5        0.579952\n",
       "D2C7S8        0.612763\n",
       "Q9ZND4        0.708329\n",
       "A0A0A7GFM2    0.645830\n",
       "A0A285NC37    0.572738\n",
       "A0A1W1VK11    0.638004\n",
       "Q974Q9        0.603692\n",
       "A0A0E3MCD3    0.595784\n",
       "C9RGM0        0.618787\n",
       "C3MKR6        0.596311\n",
       "A0A238ZNF9    0.581432\n",
       "C9RDA0        0.630759\n",
       "B5IBC3        0.610499\n",
       "B8E2R0        0.635441\n",
       "A0A179D6A8    0.572515\n",
       "B8E2X1        0.590459\n",
       "F4B8J7        0.592033\n",
       "W0I667        0.651180\n",
       "A0A1M6S0J3    0.698602\n",
       "A0A1J1EIK4    0.690222\n",
       "C9RG34        0.603245\n",
       "F2KMY8        0.618311\n",
       "A0A075WQI0    0.564752\n",
       "A0A0S3QVC6    0.574486\n",
       "A0A076LEQ3    0.577150\n",
       "C9RAX1        0.592236\n",
       "F8A9Q9        0.573714\n",
       "A0A1M6SR55    0.581034\n",
       "C0QUD0        0.572409\n",
       "E6SHZ7        0.600910\n",
       "dtype: float64"
      ]
     },
     "execution_count": 78,
     "metadata": {},
     "output_type": "execute_result"
    }
   ],
   "source": [
    "df_dist.mean()"
   ]
  },
  {
   "cell_type": "code",
   "execution_count": 108,
   "metadata": {},
   "outputs": [
    {
     "data": {
      "image/png": "[encoded data removed]",
      "text/plain": [
       "<Figure size 1080x1080 with 2 Axes>"
      ]
     },
     "metadata": {
      "needs_background": "light"
     },
     "output_type": "display_data"
    }
   ],
   "source": [
    "import numpy as np \n",
    "from pandas import DataFrame\n",
    "import matplotlib.pyplot as plt\n",
    "temperatures_OG  = [dict_fasta_ogt[i] for i in dict_dist.keys()]\n",
    "\n",
    "\n",
    "plt.figure(figsize=[15,15])\n",
    "plt.pcolor(df_dist)\n",
    "plt.yticks(np.arange(0.5, len(df_dist.index), 1), df_dist.index)\n",
    "plt.xticks(np.arange(0.5, len(df_dist.columns), 1), temperatures_OG, rotation=45)\n",
    "plt.title(\"OG COG0125_55\")\n",
    "plt.colorbar()\n",
    "plt.show()"
   ]
  },
  {
   "cell_type": "code",
   "execution_count": 129,
   "metadata": {},
   "outputs": [],
   "source": [
    "import matplotlib.pyplot as plt\n",
    "import numpy as np\n",
    "import math\n",
    "from Bio import SeqIO\n",
    "\n",
    "AAS = 'ACDEFGHIKLMNPQRSTVWYX'\n",
    "\n",
    "def import_alignment(name):\n",
    "    dict_alignment_all    = {'id':[], 'ogt':[], 'seq':[]}\n",
    "    dict_alignment_meso   = {'id':[], 'ogt':[], 'seq':[]}\n",
    "    dict_alignment_thermo = {'id':[], 'ogt':[], 'seq':[]}\n",
    "\n",
    "    for rec in SeqIO.parse(name, 'fasta'):\n",
    "        dict_alignment_all['id'].append(rec.id)\n",
    "        dict_alignment_all['ogt'].append(float(rec.description.split()[-1]))\n",
    "        dict_alignment_all['seq'].append(str(rec.seq))\n",
    "\n",
    "        if float(rec.description.split()[-1]) <= 15:\n",
    "            dict_alignment_meso['id'].append(rec.id)\n",
    "            dict_alignment_meso['ogt'].append(float(rec.description.split()[-1]))\n",
    "            dict_alignment_meso['seq'].append(str(rec.seq))\n",
    "        else:\n",
    "            dict_alignment_thermo['id'].append(rec.id)\n",
    "            dict_alignment_thermo['ogt'].append(float(rec.description.split()[-1]))\n",
    "            dict_alignment_thermo['seq'].append(str(rec.seq))\n",
    "    dict_ ={'All':dict_alignment_all, 'Meso':dict_alignment_meso, 'Thermo': dict_alignment_thermo}\n",
    "    return dict_\n",
    "\n",
    "def index_aa(seq):\n",
    "    idx = []\n",
    "    for i, aa in enumerate(seq):\n",
    "        if aa is not \"-\":\n",
    "            idx.append(i)\n",
    "    return idx\n",
    "\n",
    "def aa_at_index(idx, ali):\n",
    "    list_mutations=[]\n",
    "    for j in idx:\n",
    "        tmp=[]\n",
    "        for i, seq in enumerate(ali['seq']):\n",
    "            tmp.append(seq[j])\n",
    "        list_mutations.append(tmp)\n",
    "    return list_mutations\n",
    "\n",
    "def prob_mutation(seq, idx, msa_aa):\n",
    "    total_counts_per_residue = []\n",
    "    insertion_site = np.zeros((len(idx),))\n",
    "    for index, res_aa in enumerate(msa_aa):\n",
    "        count_residue = 1\n",
    "        for aa in res_aa:\n",
    "            if aa is not '-':\n",
    "                count_residue += 1\n",
    "        total_counts_per_residue.append(count_residue)\n",
    "        if all(np.array(res_aa) == '-'):\n",
    "            insertion_site[index] = 1\n",
    "    \n",
    "    same_counts_per_residue = []\n",
    "    for i, res_aa in enumerate(msa_aa):\n",
    "        count_residue = 1\n",
    "        for aa in res_aa:\n",
    "            if aa is seq[idx[i]]:\n",
    "                count_residue += 1\n",
    "        same_counts_per_residue.append(count_residue)\n",
    "   \n",
    "    return np.array(same_counts_per_residue)/np.array(total_counts_per_residue), insertion_site\n",
    "\n",
    "def residy_entropy(seq, idx, msa_aa):\n",
    "    total_counts_per_residue = []\n",
    "    insertion_site = np.zeros((len(idx),))\n",
    "    for index, res_aa in enumerate(msa_aa):\n",
    "        count_residue = 1\n",
    "        for aa in res_aa:\n",
    "            if aa is not '-':\n",
    "                count_residue += 1\n",
    "        total_counts_per_residue.append(count_residue)\n",
    "        if all(np.array(res_aa) == '-'):\n",
    "            insertion_site[index] = 1\n",
    "    \n",
    "    entropy_per_residue = []\n",
    "    for i, res_aa in enumerate(msa_aa):\n",
    "        counts_aa = {aa:0 for aa in AAS}\n",
    "        for aa in res_aa:\n",
    "            if aa is not '-':\n",
    "                counts_aa[aa] += 1\n",
    "        counts_aa[seq[idx[i]]] += 1\n",
    "        entropy=0\n",
    "        for key in counts_aa.keys():\n",
    "            tmp = counts_aa[key] / total_counts_per_residue[i] \n",
    "            if tmp != 0:\n",
    "                entropy -= tmp * math.log(tmp, 2)\n",
    "        entropy_per_residue.append(entropy)\n",
    "    return np.array(entropy_per_residue), insertion_site\n",
    "\n",
    "def plot_prob_aa(prob_per_residue, insertions, id_, dict_):\n",
    "    fig = plt.figure(figsize=[15,15]) \n",
    "    patches = plt.bar(np.arange(len(prob_per_residue)), prob_per_residue)\n",
    "    for i, val in enumerate(insertions):\n",
    "        if val == 1:\n",
    "            patches[i].set_facecolor('r')\n",
    "    plt.title(id_ + ' measured against '+dict_)"
   ]
  },
  {
   "cell_type": "code",
   "execution_count": 131,
   "metadata": {},
   "outputs": [
    {
     "data": {
      "image/png": "[encoded data removed]",
      "text/plain": [
       "<Figure size 1080x1080 with 1 Axes>"
      ]
     },
     "metadata": {
      "needs_background": "light"
     },
     "output_type": "display_data"
    },
    {
     "data": {
      "image/png": "[encoded data removed]",
      "text/plain": [
       "<Figure size 1080x1080 with 1 Axes>"
      ]
     },
     "metadata": {
      "needs_background": "light"
     },
     "output_type": "display_data"
    }
   ],
   "source": [
    "name = \"COG0066_52.ali\"\n",
    "dicts = import_alignment(name)\n",
    "dict_name = 'Thermo'\n",
    "seq_dict = 'Meso'\n",
    "seq = dicts[seq_dict]['seq'][0]\n",
    "id_ = dicts[seq_dict]['id'][0]\n",
    "\n",
    "index = index_aa(seq)\n",
    "msa_aa = aa_at_index(index, dicts[dict_name])\n",
    "prob_per_residue, insertions = residy_entropy(seq, index, msa_aa)\n",
    "plot_prob_aa(prob_per_residue, insertions, id_, dict_name)\n",
    "prob_per_residue, insertions = prob_mutation(seq, index, msa_aa)\n",
    "plot_prob_aa(prob_per_residue, insertions, id_, dict_name)"
   ]
  },
  {
   "cell_type": "code",
   "execution_count": 95,
   "metadata": {},
   "outputs": [
    {
     "data": {
      "text/plain": [
       "{'id': ['A0A1Y5EEK0',\n",
       "  'A0A090IPI7',\n",
       "  'A0A0F5PXS8',\n",
       "  'K4IDE7',\n",
       "  'A1SVE8',\n",
       "  'A0A1H4E8K0',\n",
       "  'D4ZDV7',\n",
       "  'A0A1M7FHC4',\n",
       "  'M9RFT1',\n",
       "  'A4C0Z1',\n",
       "  'M9RA62',\n",
       "  'A0A0M5TIR9',\n",
       "  'A0A1W1VZE0',\n",
       "  'A0A099KH96',\n",
       "  'Q47WG1',\n",
       "  'M9RKK4',\n",
       "  'Q1Z4R0',\n",
       "  'A0A1M5FC25',\n",
       "  'A0A1I3AE50',\n",
       "  'A0A099L073',\n",
       "  'A0A1H0FGW8'],\n",
       " 'ogt': [9.0,\n",
       "  14.0,\n",
       "  12.0,\n",
       "  5.0,\n",
       "  10.0,\n",
       "  13.0,\n",
       "  4.0,\n",
       "  11.0,\n",
       "  4.0,\n",
       "  4.0,\n",
       "  4.0,\n",
       "  14.0,\n",
       "  12.0,\n",
       "  9.0,\n",
       "  9.0,\n",
       "  4.0,\n",
       "  13.0,\n",
       "  12.0,\n",
       "  10.0,\n",
       "  9.0,\n",
       "  10.0],\n",
       " 'seq': ['-------------------------MEKFNTHTGLVVPLDVANVDTDQIIPKQFLQKT-E-----RVGFGVHLFHDSRYLDHAG-------TQVNPDFVINKPEYKDASILLAGENFGCGSSREHAPWALQEYGFKVIIASSFADIFYGNCINVGLLPIKLSE-AEIEQLFKLSA-DAQLMLTVDLPNNTVTC--GELSFKF--SLNEFQQYSLENGV-DSVGWTLDKLDTIKAFEAKMPA---WQ--------------------',\n",
       "  '-------------------------MSGFKQHTGLVVPLDTANIDTDAIIPKQFLQKV-N-----RTGFGKHLFHDWRFLDDAG-------EQANPEFVMNAPRYQGASILLARENFGCGSSREHAPWALADYGIQVMIAPSFADIFYGNSINNQMIPVRLTD-TEVDEIFQFVEANEGAEINVDLEAMLVTA--NNKQYSF--EIDEFRRHCLLNGL-DNIGLTLQHADKISEYEAKIPS---FLK-------------------',\n",
       "  '-------------------------MDKFTTLTGVSAPLPIINIDTDMIIPKQYLKTI-K-----RTGLGTALFSEMRYHEDG---------TENPDFVLNKPAYRGATIIVAGDNFGCGSSREHAPWALLDFGIRCVISTSFADIFYNNCFKNGILPLVVSP-EQLKLLLDDAERGSNATLTVDLEAQTIKGP-DGGTLHF--DIDPTRKQILLEGL-DDIAGTLKSDPSITTFENMMATDRPWL--------------------',\n",
       "  '-------------------------MEKFTTLNSRAIPLDIENVDTDQIIPARFLKTT-S-----REGFGENLFRDWRYDKKG---------SERSDFILNDKLYSG-SVLIAGDNFGCGSSREHAAWALSDYGFKAIVSSFFADIFKGNALNNGLLPIQVSP-DFLKKIMKLISEKPETLVRVDLESQTISIENSKLKESF--KIDTYKKTCMINGY-DDIDFLLSKKNKIEHFENQRKLLNVYD--------------------',\n",
       "  '-------------------------MEAYKKHTSIAALMNRSNVDTDQIIPTQFLKKV-E-----RTGFGIHLFHDWRFLADNV--------TPNPEFELNKPVFKGAKILVTGDNFGCGSSREHAPWAIADYGFNTVISTSFADIFYTNCFKNALLPIRVSK-DELAALMAEISANEGVKFTVDLEAEKLTTP-GGIVIHI--EVDPFRKESLLGGL-DDIAWTLKHEDKITAFEEKQKQTLPWLWK------------------',\n",
       "  '-------------------------MKKFEKLTSAIVPLNIENIDTDQIIPARFLKAT-T-----REGFGENLFRDWRYNGDH---------TVKPDFVLNDPAYTG-RILVAGKNFGCGSSREHAAWAIQDAGFDVVISSFFADIFKGNALNNGLLPIQVSD-DFLSAIFTAVSKDHTAKLAVDLEKQTVIIADTGEEADF--EINAYKKSCLINGY-DDIDFILAQKHLIEEFEQAK---------------------------',\n",
       "  '-------------------------MNPFTSHTGLSVMIDSANVDTDQIIPKQFLSKV-T-----RDGFGVHLFHDWRYLDEAG-------DQPNPEFSLNFPRYKGASVLISKENFGCGSSREHAPWALADFGLRAIIAPSFADIFYGNSINNGLLPVRLTD-VEVQQLMDEVEAKEGAEITVDLEALTVTSP-SGAKFSF--EIETSARHNLLNGL-DAIGLTLGYVDQIAAYEAKLPS---WRV-------------------',\n",
       "  '-----------------------MAYDKFNILTSSAVPLPIENVDTDQIIPARFLKAT-E-----RVGFGDNLFRDWRYNGDN---------TPKADFVLNDTTYSG-KILVGGKNFGSGSSREHAAWAVYDYGFRAVVSSFFADIFKGNCLNIGVLPVQVSP-EFAETIFNAIEADPKTELEINLPEQTITLKATGQKESF--TISGYKKDNMINGF-DDIDYLQNIKEEIVGFANKLPY-------------------------',\n",
       "  '--------------------------M---QMEGRAF-ILGNDIANDGHLMALEFALSRESDPEILR---HQIFKGL-----------------DEALADQ---LTPGDLIVTGRRFAQGNPHIQGFIGLQGARIG-LLTESIPSSSYRLAINAGVPLL-PSCPGLRA------QTTQGDILRVDFETGSVLNVTSGEELNF-APIPVHARAIIMAGGW-------------PPMFKARLK-----QQKQSRERNHSLDSNIKCNG',\n",
       "  '-----------------------MAYDKFQVLTSTAYPLPTENVDTDQIIPARFLKAT-E-----RVDFDVNFFRDWRYNQDG---------TPKADFPLNKEIYAGSKILVGGRNFGSGSSREHAAWSVYDFGLRCVISSAFADIFKNNCLNVGVLPVQVSA-AFADTLFAAIMADPKTVITVDLPNQKVTLVATGASESF--VINTYKKDNMLNGF-DDIDYLKNIENEITAFAKTRPF-------------------------',\n",
       "  '-------------------------MSGWTKIAGRAVALAQANVDTDQLIPARFMSTT-R-----NKGYGGFLLHDARQDDA--------------DHVLNRHK--CVDILVTRRNFGGGSSREAAVYALVDFGVKAVFAPSFGDIFQSNAVNNGLLPAVLDT-AEIELLIDLIG-DKDVVAEVDLSVSRAVI--GGHVVPF--NLEPVWQQKLVNGW-DDIDLTAQYNEQIAEFRAARLVAHPWAMPTS----------------',\n",
       "  '-------------------------MQAYHVQTGIVCPLDRSNIDTDQIIAKQFLKSI-K-----RTGFGVNLFDDWRYLDEGYPGQDNSTRVINPDFILNQPRYQGANILLARKNFGCGSSREHAPWALSEYGFRTVIAPSFADIFYNNCFKNGMLPIVLDE-TIVDKLMQATFATEGYELTADLERQVVITP-TGEEYPF--EVDTFRKHCLLNGL-DDIGLTLQHGDAIKAYEAQMLQKTPWIFNEVHA--------------',\n",
       "  '-------------------------MEKFQTLRSTAVPLPIENIDTDQIIPARFLKAT-T-----REGFGANLFSDWRYTADG---------QPKESFVLNDARYGG-KILLGGKNFGCGSSREHAAWALYDAGFKVVISSYFADIFRGNALNTGLLPLQVSD-EILQRLFAQVELDPQTQLVVDLPTQTLTVPVWEESIGF--DLDPYKKECLINGY-DDIDFLLNQKAAIAAYEQQRPWAY-----------------------',\n",
       "  '-------------------------MEKFNTHTGLVVPLDIANVDTDQIIPKQFLQKT-E-----RVGFGVHLFHDSRYLDHAG-------TQENPDFIINKAEYKDASILLAGENFGCGSSREHAPWALQEYGFKVIIASSFADIFYGNCINVGLLPIKLSE-AEVEQLFKLSA-DAKLTLKVDLPNNVITC--GELSFKF--SLNEFQQYSLVNGV-DSVGWTLNKLDTIKAFEAKMPA---WQ--------------------',\n",
       "  '-------------------------MEKFNTHTGLVVPLDVANVDTDQIIPKQFLQKT-E-----RVGFGVHLFHDSRYLDHDG-------TQENPDFVINKPEYKGASILLAGENFGCGSSREHAPWALQEYGFKVIIASSFADIFYGNCINVGLLPIKLTE-AEIEQLFKLSP-NAQLTLTVDLPNNVVTC--GELSFKF--SLNEFQQYSLENGV-DSVGWTLNKLDTIKAFEEKMPA---WQ--------------------',\n",
       "  '-------------------------MEKFSTLSGIAAPMPLVNIDTDMIIPKMFLKTV-K-----RSGLGGNLFDEMRFDRQG---------NEIADFVLNQPAYREASVLVAGDNFGCGSSREHAPWAIADFGIRCVISTSFADIFYSNCFKNGILPIVLPQ-DQRDALMKDAEKGANARIEIDLAAQTVTSS-DGDVYTF--EVDSFKKHCLMNGL-DDIGLTMEKVASIDTYEAQLTAERPWV--------------------',\n",
       "  '-------------------------MTGFKQHTGLVVPLDTANIDTDAIIPKQFLQKV-T-----RTGFGQHLFNDWRFLDDAG-------QQENPDFIMNAPRYQGASILLARENFGCGSSREHAPWALADYGIQVMIAPSFADIFYGNSINNQMVPVRLTD-QEVDELFQYVEANEGAKINVDLETMQVTA--NDKTYSF--EIDEFRRHCLLNGL-DNIGLTLQHADKIAEYESKIPA---FLV-------------------',\n",
       "  '-----------------------MAYDKFNILTSSAVPLPIENVDTDQIIPARFLKAT-E-----RVGFGENLFRDWRYNGDD---------TPKVDFVLNNPTYSG-KILMGGKNFGSGSSREHAAWAVYDYGFRVVVSSFFADIFKGNCLNIGVLPVQVSA-GFADKIFAAIENDPKTELEINLPEQTITILTSGEIESF--DINGYKKNNMLNGF-DDIDYLQNIKEEIITFAEKQLI-------------------------',\n",
       "  '-------------------------MQKFTTVTGIAVPLRRSNVDTDQIIPAVHLKRV-T-----RTGFEDALFAAWRL---------------DPEFVINKKEYQGGRVLIAGADFGIGSSREHAVWALRDYGFDVVLSPRFGDIFRGNSGKQGLLAGQISE-ADAETLWNLVECDPGVELTVDLVSKTVRV--GDLTVNF--EIDDYTRWRLLEGL-DDIGLTLRDEARISEFETKRES---WLPRTLPALSPESSRINLM---',\n",
       "  '-------------------------MEKFNTHTGLVVPLDVANVDTDQIIPKQFLQKT-E-----RIGFGVHLFHDSRYLDHEG-------TQVNPEFIINKPEYKDASILLARENFGCGSSREHAPWALQEYGFKVILSSSFADIFYGNCINIGILPIKLSE-DEIDQLFKLSP-NAQLTLKVDLPNNIITC--GELSFKF--SLNEFQQYSLENGV-DSVGWTLNKLDTIKAFEEKMPA---WQ--------------------',\n",
       "  '-------------------------MQKFTTVTGVAVPLRRSNVDTDQIIPAVHLKRV-T-----RTGFEDALFAAWRL---------------DPDFVINKKEYQGGRVLIAGADFGIGSSREHAVWALRDYGFDVVLSPRFGDIFRGNSGKQGLLAGQISE-ADAETLWNLIESDPGIELTVDLVSKTVRV--GDLTVNF--EIDDYTRWRLLEGL-DDIGLTLRDEARINEFEATREP---WLPRTLPALSPESISK------']}"
      ]
     },
     "execution_count": 95,
     "metadata": {},
     "output_type": "execute_result"
    }
   ],
   "source": [
    "\n",
    "dicts[dict_name]\n",
    "\n",
    "\n"
   ]
  },
  {
   "cell_type": "code",
   "execution_count": 83,
   "metadata": {},
   "outputs": [
    {
     "data": {
      "text/plain": [
       "['H5T9W5',\n",
       " 'A0A1K9YUZ8',\n",
       " 'Q6LSW5',\n",
       " 'A0A0F5Q2C4',\n",
       " 'A1STW8',\n",
       " 'Q482J5',\n",
       " 'A0A0M4U709',\n",
       " 'A0A154L9H0',\n",
       " 'A0A1I1P7G1',\n",
       " 'A0A090IIY1',\n",
       " 'D4ZLJ4',\n",
       " 'K7A0E8',\n",
       " 'A0A1Y5EVE3',\n",
       " 'A0A1I1Q669',\n",
       " 'A0A090IRF2']"
      ]
     },
     "execution_count": 83,
     "metadata": {},
     "output_type": "execute_result"
    }
   ],
   "source": [
    "dict_alignment_meso['id']"
   ]
  },
  {
   "cell_type": "code",
   "execution_count": null,
   "metadata": {},
   "outputs": [],
   "source": []
  }
 ],
 "metadata": {
  "kernelspec": {
   "display_name": "Python 3",
   "language": "python",
   "name": "python3"
  },
  "language_info": {
   "codemirror_mode": {
    "name": "ipython",
    "version": 3
   },
   "file_extension": ".py",
   "mimetype": "text/x-python",
   "name": "python",
   "nbconvert_exporter": "python",
   "pygments_lexer": "ipython3",
   "version": "3.7.7"
  }
 },
 "nbformat": 4,
 "nbformat_minor": 4
}
