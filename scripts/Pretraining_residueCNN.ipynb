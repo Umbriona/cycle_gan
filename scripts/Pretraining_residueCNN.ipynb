{
 "cells": [
  {
   "cell_type": "code",
   "execution_count": 1,
   "metadata": {},
   "outputs": [],
   "source": [
    "from utils import preprocessing as pre\n",
    "import tensorflow as tf\n",
    "from utils import models\n",
    "import matplotlib.pyplot as plt"
   ]
  },
  {
   "cell_type": "code",
   "execution_count": 2,
   "metadata": {},
   "outputs": [],
   "source": [
    "file_path = '/mnt/Archive/Data_Sets/OGT'\n",
    "file_name = 'ogt.fasta'\n",
    "\n",
    "data = pre.prepare_dataset(file_path, file_name, file_format = 'fasta', seq_length = 1024, t_v_split = 0.1,start_stop = True, max_samples = 50000)\n"
   ]
  },
  {
   "cell_type": "code",
   "execution_count": 3,
   "metadata": {},
   "outputs": [],
   "source": [
    "from utils import models\n",
    "\n",
    "vocab = 23\n",
    "n_filters = 64\n",
    "s_kernel  = 3\n",
    "dilation = 1\n",
    "rate = 0.1\n",
    "emb_s = 10\n",
    "\n",
    "model = models.AminoCNN(vocab, emb_s, n_filters, s_kernel, dilation, rate)"
   ]
  },
  {
   "cell_type": "code",
   "execution_count": 4,
   "metadata": {},
   "outputs": [
    {
     "name": "stdout",
     "output_type": "stream",
     "text": [
      "Model: \"amino_cnn\"\n",
      "_________________________________________________________________\n",
      "Layer (type)                 Output Shape              Param #   \n",
      "=================================================================\n",
      "embedding (Embedding)        multiple                  230       \n",
      "_________________________________________________________________\n",
      "amino_cnn__mod (AminoCNN_Mod multiple                  54848     \n",
      "_________________________________________________________________\n",
      "amino_cnn__mod_1 (AminoCNN_M multiple                  79040     \n",
      "_________________________________________________________________\n",
      "amino_cnn__mod_2 (AminoCNN_M multiple                  79040     \n",
      "_________________________________________________________________\n",
      "amino_cnn__mod_3 (AminoCNN_M multiple                  79040     \n",
      "_________________________________________________________________\n",
      "amino_cnn__mod_4 (AminoCNN_M multiple                  107712    \n",
      "_________________________________________________________________\n",
      "amino_cnn__mod_5 (AminoCNN_M multiple                  107712    \n",
      "_________________________________________________________________\n",
      "conv1d_42 (Conv1D)           multiple                  4439      \n",
      "_________________________________________________________________\n",
      "concatenate (Concatenate)    multiple                  0         \n",
      "=================================================================\n",
      "Total params: 512,061\n",
      "Trainable params: 509,757\n",
      "Non-trainable params: 2,304\n",
      "_________________________________________________________________\n"
     ]
    }
   ],
   "source": [
    "model.build(input_shape=(None,1024,))\n",
    "model.summary()"
   ]
  },
  {
   "cell_type": "code",
   "execution_count": 5,
   "metadata": {},
   "outputs": [],
   "source": [
    "@tf.function  # Make it fast.\n",
    "def train_on_batch(x, y, w, model, loss_fn, optimizer):\n",
    "    with tf.GradientTape() as tape:\n",
    "        logits = model(x, training=True)\n",
    "        loss = loss_fn(y, logits, w)\n",
    "        loss = tf.reduce_mean(loss,axis=0)\n",
    "        #loss += tf.reduce_mean(model.losses)\n",
    "    gradients = tape.gradient(loss, model.trainable_weights)\n",
    "    optimizer.apply_gradients(zip(gradients, model.trainable_weights))\n",
    "    loss = tf.reduce_mean(loss,axis=None)\n",
    "    return logits, loss\n",
    "\n",
    "@tf.function  # Make it fast.\n",
    "def validate_on_batch(x, y, w, model, loss_fn):\n",
    "    logits = model(x, training=False)\n",
    "    loss = loss_fn(y, logits, w)\n",
    "    loss = tf.reduce_mean(loss,axis=0)\n",
    "    #loss += tf.reduce_mean(model.losses)\n",
    "    loss = tf.reduce_mean(loss,axis=None)\n",
    "    return logits, loss"
   ]
  },
  {
   "cell_type": "code",
   "execution_count": 6,
   "metadata": {},
   "outputs": [],
   "source": [
    "class CustomSchedule(tf.keras.optimizers.schedules.LearningRateSchedule):\n",
    "    def __init__(self, d_model, warmup_steps=4000):\n",
    "        super(CustomSchedule, self).__init__()\n",
    "\n",
    "        self.d_model = d_model\n",
    "        self.d_model = tf.cast(self.d_model, tf.float32)\n",
    "\n",
    "        self.warmup_steps = warmup_steps\n",
    "        self.k1 = (d_model - 1e-7)/warmup_steps\n",
    "        self.k2 = self.k1/8\n",
    "        \n",
    "    def __call__(self, step):\n",
    "\n",
    "        arg1 = self.k1*step + 1e-7\n",
    "        arg2 = self.d_model - self.k1*step\n",
    "        arg3 = self.d_model*1/4 -self.k2*step\n",
    "        return tf.math.minimum(arg1, tf.math.maximum(arg2,arg3))\n"
   ]
  },
  {
   "cell_type": "code",
   "execution_count": 7,
   "metadata": {},
   "outputs": [
    {
     "data": {
      "image/png": "[encoded data removed]",
      "text/plain": [
       "<Figure size 432x288 with 1 Axes>"
      ]
     },
     "metadata": {
      "needs_background": "light"
     },
     "output_type": "display_data"
    }
   ],
   "source": [
    "epochs = 200\n",
    "steps = epochs *  45000/64\n",
    "\n",
    "lr_schedule = CustomSchedule(0.02, steps/2)\n",
    "opt = tf.keras.optimizers.Adam(learning_rate = 0.0001)\n",
    "loss_fn = tf.keras.losses.CategoricalCrossentropy(\n",
    "    from_logits=False, label_smoothing=0.0,\n",
    "    reduction = tf.keras.losses.Reduction.NONE,\n",
    "    name='categorical_crossentropy'\n",
    ")\n",
    "acc = tf.keras.metrics.CategoricalAccuracy(name='categorical_accuracy')\n",
    "\n",
    "plt.plot(lr_schedule(tf.range(steps, dtype=tf.float32)))\n",
    "plt.ylabel(\"Learning Rate\")\n",
    "plt.xlabel(\"Train Step\")\n",
    "plt.show()"
   ]
  },
  {
   "cell_type": "code",
   "execution_count": 8,
   "metadata": {},
   "outputs": [
    {
     "name": "stdout",
     "output_type": "stream",
     "text": [
      "Epoch: 0\tLoss0.5292\tAcc  0.65\tVal_loss0.0066\tVal_acc  1.00\n",
      "Epoch: 1\tLoss0.0157\tAcc  1.00\tVal_loss0.0001\tVal_acc  1.00\n",
      "Epoch: 2\tLoss0.0032\tAcc  1.00\tVal_loss0.0000\tVal_acc  1.00\n",
      "Epoch: 3\tLoss0.0012\tAcc  1.00\tVal_loss0.0000\tVal_acc  1.00\n",
      "Epoch: 4\tLoss0.0005\tAcc  1.00\tVal_loss0.0000\tVal_acc  1.00\n",
      "Epoch: 5\tLoss0.0003\tAcc  1.00\tVal_loss0.0000\tVal_acc  1.00\n",
      "Epoch: 6\tLoss0.0001\tAcc  1.00\tVal_loss0.0000\tVal_acc  1.00\n",
      "Epoch: 7\tLoss0.0001\tAcc  1.00\tVal_loss0.0000\tVal_acc  1.00\n",
      "Epoch: 8\tLoss0.0000\tAcc  1.00\tVal_loss0.0000\tVal_acc  1.00\n",
      "Epoch: 9\tLoss0.0000\tAcc  1.00\tVal_loss0.0000\tVal_acc  1.00\n",
      "Epoch: 10\tLoss0.0000\tAcc  1.00\tVal_loss0.0000\tVal_acc  1.00\n",
      "Epoch: 11\tLoss0.0000\tAcc  1.00\tVal_loss0.0000\tVal_acc  1.00\n",
      "Epoch: 12\tLoss0.0000\tAcc  1.00\tVal_loss0.0000\tVal_acc  1.00\n",
      "Epoch: 13\tLoss0.0000\tAcc  1.00\tVal_loss0.0000\tVal_acc  1.00\n",
      "Epoch: 14\tLoss0.0000\tAcc  1.00\tVal_loss0.0000\tVal_acc  1.00\n",
      "Epoch: 15\tLoss0.0000\tAcc  1.00\tVal_loss0.0000\tVal_acc  1.00\n",
      "Epoch: 16\tLoss0.0000\tAcc  1.00\tVal_loss0.0000\tVal_acc  1.00\n",
      "Epoch: 17\tLoss0.0000\tAcc  1.00\tVal_loss0.0000\tVal_acc  1.00\n",
      "Epoch: 18\tLoss0.0000\tAcc  1.00\tVal_loss0.0000\tVal_acc  1.00\n",
      "Epoch: 19\tLoss0.0000\tAcc  1.00\tVal_loss0.0000\tVal_acc  1.00\n",
      "Epoch: 20\tLoss0.0000\tAcc  1.00\tVal_loss0.0000\tVal_acc  1.00\n",
      "Epoch: 21\tLoss0.0000\tAcc  1.00\tVal_loss0.0000\tVal_acc  1.00\n",
      "Epoch: 22\tLoss0.0000\tAcc  1.00\tVal_loss0.0000\tVal_acc  1.00\n",
      "Epoch: 23\tLoss0.0000\tAcc  1.00\tVal_loss0.0000\tVal_acc  1.00\n",
      "Epoch: 24\tLoss0.0000\tAcc  1.00\tVal_loss0.0000\tVal_acc  1.00\n",
      "Epoch: 25\tLoss0.0000\tAcc  1.00\tVal_loss0.0000\tVal_acc  1.00\n",
      "Epoch: 26\tLoss0.0000\tAcc  1.00\tVal_loss0.0000\tVal_acc  1.00\n",
      "Epoch: 27\tLoss0.0000\tAcc  1.00\tVal_loss0.0000\tVal_acc  1.00\n",
      "Epoch: 28\tLoss0.0000\tAcc  1.00\tVal_loss0.0000\tVal_acc  1.00\n",
      "Epoch: 29\tLoss0.0000\tAcc  1.00\tVal_loss0.0000\tVal_acc  1.00\n",
      "Epoch: 30\tLoss0.0000\tAcc  1.00\tVal_loss0.0000\tVal_acc  1.00\n",
      "Epoch: 31\tLoss0.0000\tAcc  1.00\tVal_loss0.0000\tVal_acc  1.00\n",
      "Epoch: 32\tLoss0.0000\tAcc  1.00\tVal_loss0.0000\tVal_acc  1.00\n",
      "Epoch: 33\tLoss0.0000\tAcc  1.00\tVal_loss0.0000\tVal_acc  1.00\n",
      "Epoch: 34\tLoss0.0000\tAcc  1.00\tVal_loss0.0000\tVal_acc  1.00\n",
      "Epoch: 35\tLoss0.0000\tAcc  1.00\tVal_loss0.0000\tVal_acc  1.00\n",
      "Epoch: 36\tLoss0.0000\tAcc  1.00\tVal_loss0.0000\tVal_acc  1.00\n",
      "Epoch: 37\tLoss0.0000\tAcc  1.00\tVal_loss0.0000\tVal_acc  1.00\n",
      "Epoch: 38\tLoss0.0000\tAcc  1.00\tVal_loss0.0000\tVal_acc  1.00\n",
      "Epoch: 39\tLoss0.0000\tAcc  1.00\tVal_loss0.0000\tVal_acc  1.00\n",
      "Epoch: 40\tLoss0.0000\tAcc  1.00\tVal_loss0.0000\tVal_acc  1.00\n",
      "Epoch: 41\tLoss0.0000\tAcc  1.00\tVal_loss0.0000\tVal_acc  1.00\n",
      "Epoch: 42\tLoss0.0000\tAcc  1.00\tVal_loss0.0000\tVal_acc  1.00\n",
      "Epoch: 43\tLoss0.0000\tAcc  1.00\tVal_loss0.0000\tVal_acc  1.00\n"
     ]
    },
    {
     "ename": "KeyboardInterrupt",
     "evalue": "",
     "output_type": "error",
     "traceback": [
      "\u001b[0;31m---------------------------------------------------------------------------\u001b[0m",
      "\u001b[0;31mKeyboardInterrupt\u001b[0m                         Traceback (most recent call last)",
      "\u001b[0;32m<ipython-input-8-ccd4c7c04a35>\u001b[0m in \u001b[0;36m<module>\u001b[0;34m\u001b[0m\n\u001b[1;32m     11\u001b[0m     \u001b[0;32mfor\u001b[0m \u001b[0mstep\u001b[0m\u001b[0;34m,\u001b[0m \u001b[0;34m(\u001b[0m\u001b[0mx\u001b[0m\u001b[0;34m,\u001b[0m \u001b[0my\u001b[0m\u001b[0;34m,\u001b[0m \u001b[0mw\u001b[0m\u001b[0;34m)\u001b[0m \u001b[0;32min\u001b[0m \u001b[0menumerate\u001b[0m\u001b[0;34m(\u001b[0m\u001b[0mtraining_Batches\u001b[0m\u001b[0;34m)\u001b[0m\u001b[0;34m:\u001b[0m\u001b[0;34m\u001b[0m\u001b[0;34m\u001b[0m\u001b[0m\n\u001b[1;32m     12\u001b[0m         \u001b[0mopt\u001b[0m\u001b[0;34m.\u001b[0m\u001b[0mlr\u001b[0m\u001b[0;34m.\u001b[0m\u001b[0massign\u001b[0m\u001b[0;34m(\u001b[0m\u001b[0mlr_schedule\u001b[0m\u001b[0;34m(\u001b[0m\u001b[0mstep\u001b[0m\u001b[0;34m*\u001b[0m\u001b[0;34m(\u001b[0m\u001b[0mepoch\u001b[0m\u001b[0;34m+\u001b[0m\u001b[0;36m1\u001b[0m\u001b[0;34m)\u001b[0m\u001b[0;34m)\u001b[0m\u001b[0;34m)\u001b[0m\u001b[0;34m\u001b[0m\u001b[0;34m\u001b[0m\u001b[0m\n\u001b[0;32m---> 13\u001b[0;31m         \u001b[0mlogits\u001b[0m\u001b[0;34m,\u001b[0m \u001b[0mloss\u001b[0m \u001b[0;34m=\u001b[0m \u001b[0mtrain_on_batch\u001b[0m\u001b[0;34m(\u001b[0m\u001b[0mx\u001b[0m\u001b[0;34m,\u001b[0m \u001b[0my\u001b[0m\u001b[0;34m,\u001b[0m \u001b[0mw\u001b[0m\u001b[0;34m,\u001b[0m \u001b[0mmodel\u001b[0m\u001b[0;34m,\u001b[0m \u001b[0mloss_fn\u001b[0m\u001b[0;34m,\u001b[0m \u001b[0mopt\u001b[0m\u001b[0;34m)\u001b[0m\u001b[0;34m\u001b[0m\u001b[0;34m\u001b[0m\u001b[0m\n\u001b[0m\u001b[1;32m     14\u001b[0m         \u001b[0mtrain_loss\u001b[0m\u001b[0;34m(\u001b[0m\u001b[0mloss\u001b[0m\u001b[0;34m)\u001b[0m\u001b[0;34m\u001b[0m\u001b[0;34m\u001b[0m\u001b[0m\n\u001b[1;32m     15\u001b[0m         \u001b[0mtrain_acc\u001b[0m\u001b[0;34m(\u001b[0m\u001b[0my\u001b[0m\u001b[0;34m,\u001b[0m \u001b[0mlogits\u001b[0m\u001b[0;34m,\u001b[0m \u001b[0mw\u001b[0m\u001b[0;34m)\u001b[0m\u001b[0;34m\u001b[0m\u001b[0;34m\u001b[0m\u001b[0m\n",
      "\u001b[0;32m~/anaconda3/lib/python3.6/site-packages/tensorflow_core/python/eager/def_function.py\u001b[0m in \u001b[0;36m__call__\u001b[0;34m(self, *args, **kwds)\u001b[0m\n\u001b[1;32m    455\u001b[0m \u001b[0;34m\u001b[0m\u001b[0m\n\u001b[1;32m    456\u001b[0m     \u001b[0mtracing_count\u001b[0m \u001b[0;34m=\u001b[0m \u001b[0mself\u001b[0m\u001b[0;34m.\u001b[0m\u001b[0m_get_tracing_count\u001b[0m\u001b[0;34m(\u001b[0m\u001b[0;34m)\u001b[0m\u001b[0;34m\u001b[0m\u001b[0;34m\u001b[0m\u001b[0m\n\u001b[0;32m--> 457\u001b[0;31m     \u001b[0mresult\u001b[0m \u001b[0;34m=\u001b[0m \u001b[0mself\u001b[0m\u001b[0;34m.\u001b[0m\u001b[0m_call\u001b[0m\u001b[0;34m(\u001b[0m\u001b[0;34m*\u001b[0m\u001b[0margs\u001b[0m\u001b[0;34m,\u001b[0m \u001b[0;34m**\u001b[0m\u001b[0mkwds\u001b[0m\u001b[0;34m)\u001b[0m\u001b[0;34m\u001b[0m\u001b[0;34m\u001b[0m\u001b[0m\n\u001b[0m\u001b[1;32m    458\u001b[0m     \u001b[0;32mif\u001b[0m \u001b[0mtracing_count\u001b[0m \u001b[0;34m==\u001b[0m \u001b[0mself\u001b[0m\u001b[0;34m.\u001b[0m\u001b[0m_get_tracing_count\u001b[0m\u001b[0;34m(\u001b[0m\u001b[0;34m)\u001b[0m\u001b[0;34m:\u001b[0m\u001b[0;34m\u001b[0m\u001b[0;34m\u001b[0m\u001b[0m\n\u001b[1;32m    459\u001b[0m       \u001b[0mself\u001b[0m\u001b[0;34m.\u001b[0m\u001b[0m_call_counter\u001b[0m\u001b[0;34m.\u001b[0m\u001b[0mcalled_without_tracing\u001b[0m\u001b[0;34m(\u001b[0m\u001b[0;34m)\u001b[0m\u001b[0;34m\u001b[0m\u001b[0;34m\u001b[0m\u001b[0m\n",
      "\u001b[0;32m~/anaconda3/lib/python3.6/site-packages/tensorflow_core/python/eager/def_function.py\u001b[0m in \u001b[0;36m_call\u001b[0;34m(self, *args, **kwds)\u001b[0m\n\u001b[1;32m    485\u001b[0m       \u001b[0;31m# In this case we have created variables on the first call, so we run the\u001b[0m\u001b[0;34m\u001b[0m\u001b[0;34m\u001b[0m\u001b[0;34m\u001b[0m\u001b[0m\n\u001b[1;32m    486\u001b[0m       \u001b[0;31m# defunned version which is guaranteed to never create variables.\u001b[0m\u001b[0;34m\u001b[0m\u001b[0;34m\u001b[0m\u001b[0;34m\u001b[0m\u001b[0m\n\u001b[0;32m--> 487\u001b[0;31m       \u001b[0;32mreturn\u001b[0m \u001b[0mself\u001b[0m\u001b[0;34m.\u001b[0m\u001b[0m_stateless_fn\u001b[0m\u001b[0;34m(\u001b[0m\u001b[0;34m*\u001b[0m\u001b[0margs\u001b[0m\u001b[0;34m,\u001b[0m \u001b[0;34m**\u001b[0m\u001b[0mkwds\u001b[0m\u001b[0;34m)\u001b[0m  \u001b[0;31m# pylint: disable=not-callable\u001b[0m\u001b[0;34m\u001b[0m\u001b[0;34m\u001b[0m\u001b[0m\n\u001b[0m\u001b[1;32m    488\u001b[0m     \u001b[0;32melif\u001b[0m \u001b[0mself\u001b[0m\u001b[0;34m.\u001b[0m\u001b[0m_stateful_fn\u001b[0m \u001b[0;32mis\u001b[0m \u001b[0;32mnot\u001b[0m \u001b[0;32mNone\u001b[0m\u001b[0;34m:\u001b[0m\u001b[0;34m\u001b[0m\u001b[0;34m\u001b[0m\u001b[0m\n\u001b[1;32m    489\u001b[0m       \u001b[0;31m# Release the lock early so that multiple threads can perform the call\u001b[0m\u001b[0;34m\u001b[0m\u001b[0;34m\u001b[0m\u001b[0;34m\u001b[0m\u001b[0m\n",
      "\u001b[0;32m~/anaconda3/lib/python3.6/site-packages/tensorflow_core/python/eager/function.py\u001b[0m in \u001b[0;36m__call__\u001b[0;34m(self, *args, **kwargs)\u001b[0m\n\u001b[1;32m   1821\u001b[0m     \u001b[0;34m\"\"\"Calls a graph function specialized to the inputs.\"\"\"\u001b[0m\u001b[0;34m\u001b[0m\u001b[0;34m\u001b[0m\u001b[0m\n\u001b[1;32m   1822\u001b[0m     \u001b[0mgraph_function\u001b[0m\u001b[0;34m,\u001b[0m \u001b[0margs\u001b[0m\u001b[0;34m,\u001b[0m \u001b[0mkwargs\u001b[0m \u001b[0;34m=\u001b[0m \u001b[0mself\u001b[0m\u001b[0;34m.\u001b[0m\u001b[0m_maybe_define_function\u001b[0m\u001b[0;34m(\u001b[0m\u001b[0margs\u001b[0m\u001b[0;34m,\u001b[0m \u001b[0mkwargs\u001b[0m\u001b[0;34m)\u001b[0m\u001b[0;34m\u001b[0m\u001b[0;34m\u001b[0m\u001b[0m\n\u001b[0;32m-> 1823\u001b[0;31m     \u001b[0;32mreturn\u001b[0m \u001b[0mgraph_function\u001b[0m\u001b[0;34m.\u001b[0m\u001b[0m_filtered_call\u001b[0m\u001b[0;34m(\u001b[0m\u001b[0margs\u001b[0m\u001b[0;34m,\u001b[0m \u001b[0mkwargs\u001b[0m\u001b[0;34m)\u001b[0m  \u001b[0;31m# pylint: disable=protected-access\u001b[0m\u001b[0;34m\u001b[0m\u001b[0;34m\u001b[0m\u001b[0m\n\u001b[0m\u001b[1;32m   1824\u001b[0m \u001b[0;34m\u001b[0m\u001b[0m\n\u001b[1;32m   1825\u001b[0m   \u001b[0;34m@\u001b[0m\u001b[0mproperty\u001b[0m\u001b[0;34m\u001b[0m\u001b[0;34m\u001b[0m\u001b[0m\n",
      "\u001b[0;32m~/anaconda3/lib/python3.6/site-packages/tensorflow_core/python/eager/function.py\u001b[0m in \u001b[0;36m_filtered_call\u001b[0;34m(self, args, kwargs)\u001b[0m\n\u001b[1;32m   1139\u001b[0m          if isinstance(t, (ops.Tensor,\n\u001b[1;32m   1140\u001b[0m                            resource_variable_ops.BaseResourceVariable))),\n\u001b[0;32m-> 1141\u001b[0;31m         self.captured_inputs)\n\u001b[0m\u001b[1;32m   1142\u001b[0m \u001b[0;34m\u001b[0m\u001b[0m\n\u001b[1;32m   1143\u001b[0m   \u001b[0;32mdef\u001b[0m \u001b[0m_call_flat\u001b[0m\u001b[0;34m(\u001b[0m\u001b[0mself\u001b[0m\u001b[0;34m,\u001b[0m \u001b[0margs\u001b[0m\u001b[0;34m,\u001b[0m \u001b[0mcaptured_inputs\u001b[0m\u001b[0;34m,\u001b[0m \u001b[0mcancellation_manager\u001b[0m\u001b[0;34m=\u001b[0m\u001b[0;32mNone\u001b[0m\u001b[0;34m)\u001b[0m\u001b[0;34m:\u001b[0m\u001b[0;34m\u001b[0m\u001b[0;34m\u001b[0m\u001b[0m\n",
      "\u001b[0;32m~/anaconda3/lib/python3.6/site-packages/tensorflow_core/python/eager/function.py\u001b[0m in \u001b[0;36m_call_flat\u001b[0;34m(self, args, captured_inputs, cancellation_manager)\u001b[0m\n\u001b[1;32m   1222\u001b[0m     \u001b[0;32mif\u001b[0m \u001b[0mexecuting_eagerly\u001b[0m\u001b[0;34m:\u001b[0m\u001b[0;34m\u001b[0m\u001b[0;34m\u001b[0m\u001b[0m\n\u001b[1;32m   1223\u001b[0m       flat_outputs = forward_function.call(\n\u001b[0;32m-> 1224\u001b[0;31m           ctx, args, cancellation_manager=cancellation_manager)\n\u001b[0m\u001b[1;32m   1225\u001b[0m     \u001b[0;32melse\u001b[0m\u001b[0;34m:\u001b[0m\u001b[0;34m\u001b[0m\u001b[0;34m\u001b[0m\u001b[0m\n\u001b[1;32m   1226\u001b[0m       \u001b[0mgradient_name\u001b[0m \u001b[0;34m=\u001b[0m \u001b[0mself\u001b[0m\u001b[0;34m.\u001b[0m\u001b[0m_delayed_rewrite_functions\u001b[0m\u001b[0;34m.\u001b[0m\u001b[0mregister\u001b[0m\u001b[0;34m(\u001b[0m\u001b[0;34m)\u001b[0m\u001b[0;34m\u001b[0m\u001b[0;34m\u001b[0m\u001b[0m\n",
      "\u001b[0;32m~/anaconda3/lib/python3.6/site-packages/tensorflow_core/python/eager/function.py\u001b[0m in \u001b[0;36mcall\u001b[0;34m(self, ctx, args, cancellation_manager)\u001b[0m\n\u001b[1;32m    509\u001b[0m               \u001b[0minputs\u001b[0m\u001b[0;34m=\u001b[0m\u001b[0margs\u001b[0m\u001b[0;34m,\u001b[0m\u001b[0;34m\u001b[0m\u001b[0;34m\u001b[0m\u001b[0m\n\u001b[1;32m    510\u001b[0m               \u001b[0mattrs\u001b[0m\u001b[0;34m=\u001b[0m\u001b[0;34m(\u001b[0m\u001b[0;34m\"executor_type\"\u001b[0m\u001b[0;34m,\u001b[0m \u001b[0mexecutor_type\u001b[0m\u001b[0;34m,\u001b[0m \u001b[0;34m\"config_proto\"\u001b[0m\u001b[0;34m,\u001b[0m \u001b[0mconfig\u001b[0m\u001b[0;34m)\u001b[0m\u001b[0;34m,\u001b[0m\u001b[0;34m\u001b[0m\u001b[0;34m\u001b[0m\u001b[0m\n\u001b[0;32m--> 511\u001b[0;31m               ctx=ctx)\n\u001b[0m\u001b[1;32m    512\u001b[0m         \u001b[0;32melse\u001b[0m\u001b[0;34m:\u001b[0m\u001b[0;34m\u001b[0m\u001b[0;34m\u001b[0m\u001b[0m\n\u001b[1;32m    513\u001b[0m           outputs = execute.execute_with_cancellation(\n",
      "\u001b[0;32m~/anaconda3/lib/python3.6/site-packages/tensorflow_core/python/eager/execute.py\u001b[0m in \u001b[0;36mquick_execute\u001b[0;34m(op_name, num_outputs, inputs, attrs, ctx, name)\u001b[0m\n\u001b[1;32m     59\u001b[0m     tensors = pywrap_tensorflow.TFE_Py_Execute(ctx._handle, device_name,\n\u001b[1;32m     60\u001b[0m                                                \u001b[0mop_name\u001b[0m\u001b[0;34m,\u001b[0m \u001b[0minputs\u001b[0m\u001b[0;34m,\u001b[0m \u001b[0mattrs\u001b[0m\u001b[0;34m,\u001b[0m\u001b[0;34m\u001b[0m\u001b[0;34m\u001b[0m\u001b[0m\n\u001b[0;32m---> 61\u001b[0;31m                                                num_outputs)\n\u001b[0m\u001b[1;32m     62\u001b[0m   \u001b[0;32mexcept\u001b[0m \u001b[0mcore\u001b[0m\u001b[0;34m.\u001b[0m\u001b[0m_NotOkStatusException\u001b[0m \u001b[0;32mas\u001b[0m \u001b[0me\u001b[0m\u001b[0;34m:\u001b[0m\u001b[0;34m\u001b[0m\u001b[0;34m\u001b[0m\u001b[0m\n\u001b[1;32m     63\u001b[0m     \u001b[0;32mif\u001b[0m \u001b[0mname\u001b[0m \u001b[0;32mis\u001b[0m \u001b[0;32mnot\u001b[0m \u001b[0;32mNone\u001b[0m\u001b[0;34m:\u001b[0m\u001b[0;34m\u001b[0m\u001b[0;34m\u001b[0m\u001b[0m\n",
      "\u001b[0;31mKeyboardInterrupt\u001b[0m: "
     ]
    }
   ],
   "source": [
    "train_loss = tf.keras.metrics.Mean('loss', dtype=tf.float32)\n",
    "val_loss = tf.keras.metrics.Mean('val_loss', dtype=tf.float32)\n",
    "    \n",
    "train_acc = tf.keras.metrics.CategoricalAccuracy()\n",
    "val_acc   = tf.keras.metrics.CategoricalAccuracy()\n",
    "\n",
    "for epoch in range(epochs):\n",
    "    \n",
    "    training_Batches = data[0].shuffle(1000000, reshuffle_each_iteration=True).batch(64)\n",
    "    validation_Batches = data[1].shuffle(100000, reshuffle_each_iteration= True).batch(64)\n",
    "    for step, (x, y, w) in enumerate(training_Batches):\n",
    "        opt.lr.assign(lr_schedule(step*(epoch+1)))\n",
    "        logits, loss = train_on_batch(x, y, w, model, loss_fn, opt)\n",
    "        train_loss(loss)\n",
    "        train_acc(y, logits, w)\n",
    "        \n",
    "    for step, (x, y, w) in enumerate(validation_Batches):\n",
    "        logits, loss = validate_on_batch(x, y, w, model, loss_fn)\n",
    "        \n",
    "        val_loss(loss)\n",
    "        val_acc(y, logits, w)\n",
    "        \n",
    "    print(\"Epoch: %d\\tLoss%6.4f\\tAcc%6.2f\\tVal_loss%6.4f\\tVal_acc%6.2f\" % \n",
    "                      (epoch, train_loss.result().numpy(),                                                                       train_acc.result().numpy(),\n",
    "                        val_loss.result().numpy(), \n",
    "                        val_acc.result().numpy()))\n",
    "                  \n",
    "    train_loss.reset_states()\n",
    "    train_acc.reset_states()\n",
    "    val_loss.reset_states()\n",
    "    val_acc.reset_states()"
   ]
  },
  {
   "cell_type": "code",
   "execution_count": null,
   "metadata": {},
   "outputs": [],
   "source": []
  }
 ],
 "metadata": {
  "kernelspec": {
   "display_name": "Python 3",
   "language": "python",
   "name": "python3"
  },
  "language_info": {
   "codemirror_mode": {
    "name": "ipython",
    "version": 3
   },
   "file_extension": ".py",
   "mimetype": "text/x-python",
   "name": "python",
   "nbconvert_exporter": "python",
   "pygments_lexer": "ipython3",
   "version": "3.7.7"
  }
 },
 "nbformat": 4,
 "nbformat_minor": 4
}
