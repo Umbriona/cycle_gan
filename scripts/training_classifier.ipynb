{
 "cells": [
  {
   "cell_type": "code",
   "execution_count": 5,
   "metadata": {},
   "outputs": [],
   "source": [
    "import os, sys\n",
    "currentdir = os.path.dirname(os.getcwd())\n",
    "sys.path.append(currentdir)\n",
    "import numpy as np\n",
    "import tensorflow as tf\n",
    "from tensorflow import keras\n",
    "from tensorflow.keras import backend as K\n",
    "from tensorflow.keras import layers\n",
    "from matplotlib import pyplot as plt\n",
    "import math\n",
    "\n",
    "from utils import preprocessing as pre\n",
    "from utils import models_new\n",
    "import matplotlib.pyplot as plt"
   ]
  },
  {
   "cell_type": "code",
   "execution_count": 6,
   "metadata": {},
   "outputs": [
    {
     "name": "stdout",
     "output_type": "stream",
     "text": [
      "ogt_4_15.fasta 3501\n",
      "ogt_15_26.fasta 3501\n",
      "ogt_26_37.fasta 3501\n",
      "ogt_37_48.fasta 3501\n",
      "ogt_48_59.fasta 3501\n",
      "ogt_59_70.fasta 3501\n",
      "ogt_70_81.fasta 3501\n"
     ]
    }
   ],
   "source": [
    "# Data loading\n",
    "\n",
    "dir_ = '/mnt/Archive/Data_Sets/OGT/ogt_classes'\n",
    "\n",
    "names_class = ['ogt_4_15.fasta', 'ogt_26_37.fasta', 'ogt_48_59.fasta', 'ogt_70_81.fasta']\n",
    "names_reg = ['ogt_4_15.fasta', 'ogt_15_26.fasta', 'ogt_26_37.fasta', 'ogt_37_48.fasta', 'ogt_48_59.fasta', 'ogt_59_70.fasta', 'ogt_70_81.fasta']\n",
    "\n",
    "\n",
    "data_train, data_val = pre.prepare_dataset_reg(dir_, names_reg,\n",
    "                               seq_length = 512,\n",
    "                               t_v_split = 0.1,\n",
    "                               max_samples = 3500)"
   ]
  },
  {
   "cell_type": "code",
   "execution_count": 4,
   "metadata": {},
   "outputs": [
    {
     "name": "stdout",
     "output_type": "stream",
     "text": [
      "(<tf.Tensor: shape=(512, 21), dtype=float32, numpy=\n",
      "array([[0., 0., 0., ..., 0., 0., 0.],\n",
      "       [0., 0., 0., ..., 0., 0., 0.],\n",
      "       [0., 0., 0., ..., 0., 0., 0.],\n",
      "       ...,\n",
      "       [0., 0., 0., ..., 0., 0., 0.],\n",
      "       [0., 0., 0., ..., 0., 0., 0.],\n",
      "       [0., 0., 0., ..., 0., 0., 0.]], dtype=float32)>, <tf.Tensor: shape=(), dtype=float32, numpy=-4.9>)\n"
     ]
    }
   ],
   "source": [
    "for i, item in enumerate(data_train):\n",
    "    pass\n",
    "print(item)"
   ]
  },
  {
   "cell_type": "code",
   "execution_count": 7,
   "metadata": {},
   "outputs": [],
   "source": [
    "def coef_det_k(y_true, y_pred):\n",
    "    \"\"\"Computer coefficient of determination R^2\n",
    "    \"\"\"\n",
    "    SS_res = K.sum(K.square(y_true - y_pred))\n",
    "    SS_tot = K.sum(K.square(y_true - K.mean(y_true)))\n",
    "    return 1 - SS_res / (SS_tot + K.epsilon())"
   ]
  },
  {
   "cell_type": "code",
   "execution_count": 8,
   "metadata": {},
   "outputs": [
    {
     "name": "stdout",
     "output_type": "stream",
     "text": [
      "Model: \"classifier_1\"\n",
      "_________________________________________________________________\n",
      "Layer (type)                 Output Shape              Param #   \n",
      "=================================================================\n",
      "input_1 (InputLayer)         [(None, 512, 21)]         0         \n",
      "_________________________________________________________________\n",
      "tf_op_layer_mul (TensorFlowO [(None, 512, 21)]         0         \n",
      "_________________________________________________________________\n",
      "gaussian_noise (GaussianNois (None, 512, 21)           0         \n",
      "_________________________________________________________________\n",
      "softmax (Softmax)            (None, 512, 21)           0         \n",
      "_________________________________________________________________\n",
      "self_attention (SelfAttentio ((None, 512, 21), (None,  169       \n",
      "_________________________________________________________________\n",
      "res_mod (ResMod)             (None, 512, 64)           58560     \n",
      "_________________________________________________________________\n",
      "res_mod_1 (ResMod)           (None, 256, 64)           102400    \n",
      "_________________________________________________________________\n",
      "res_mod_2 (ResMod)           (None, 128, 64)           102400    \n",
      "_________________________________________________________________\n",
      "res_mod_3 (ResMod)           (None, 128, 128)          253952    \n",
      "_________________________________________________________________\n",
      "res_mod_4 (ResMod)           (None, 64, 128)           409600    \n",
      "_________________________________________________________________\n",
      "res_mod_5 (ResMod)           (None, 32, 128)           409600    \n",
      "_________________________________________________________________\n",
      "res_mod_6 (ResMod)           (None, 32, 256)           688128    \n",
      "_________________________________________________________________\n",
      "res_mod_7 (ResMod)           (None, 32, 256)           851968    \n",
      "_________________________________________________________________\n",
      "res_mod_8 (ResMod)           (None, 16, 256)           1114112   \n",
      "_________________________________________________________________\n",
      "flatten (Flatten)            (None, 4096)              0         \n",
      "_________________________________________________________________\n",
      "dense (Dense)                (None, 256)               1048832   \n",
      "_________________________________________________________________\n",
      "dense_1 (Dense)              (None, 1)                 257       \n",
      "=================================================================\n",
      "Total params: 5,039,978\n",
      "Trainable params: 5,039,978\n",
      "Non-trainable params: 0\n",
      "_________________________________________________________________\n"
     ]
    }
   ],
   "source": [
    "# model define\n",
    "\n",
    "filters = [64, 64, 64, 128, 128, 128, 256, 256, 256]\n",
    "sizes   = [6, 6, 6, 6, 6, 6, 4, 4, 4]\n",
    "dilation= [1, 1, 1, 1, 1, 1, 1, 1, 1]\n",
    "strides = [1, 2, 2, 1, 2, 2, 1, 1, 2]\n",
    "vocab = 21\n",
    "\n",
    "\n",
    "opt = keras.optimizers.Adam(learning_rate=0.00001)\n",
    "loss = tf.keras.losses.CategoricalCrossentropy(\n",
    "    from_logits=False, label_smoothing=0,\n",
    "    name='categorical_crossentropy'\n",
    ")\n",
    "acc = tf.keras.metrics.CategoricalAccuracy(\n",
    "    name='categorical_accuracy', dtype=None\n",
    ")\n",
    "\n",
    "\n",
    "model = models_new.Classifier(filters, sizes, strides, dilation, vocab)\n",
    "\n",
    "model.compile(optimizer=opt, loss='mse', metrics=[coef_det_k])\n",
    "model.summary()\n",
    "\n"
   ]
  },
  {
   "cell_type": "code",
   "execution_count": 5,
   "metadata": {},
   "outputs": [],
   "source": [
    "# learning rate schedule\n",
    "class CustomSchedule(tf.keras.callbacks.Callback):\n",
    "    def __init__(self, d_model, warmup_steps=4000):\n",
    "        super(CustomSchedule, self).__init__()\n",
    "\n",
    "        self.d_model = d_model\n",
    "        self.d_model = tf.cast(self.d_model, tf.float32)\n",
    "\n",
    "        self.warmup_steps = warmup_steps\n",
    "        self.k1 = (d_model - 1e-7)/warmup_steps\n",
    "        self.k2 = self.k1/8\n",
    "        \n",
    "    def __call__(self, step, lr=0.1):\n",
    "        step = step*31500/32\n",
    "        arg1 = self.k1*step + 1e-7\n",
    "        arg2 = self.d_model - self.k1*step\n",
    "        arg3 = self.d_model*1/4 -self.k2*step\n",
    "        return tf.math.minimum(arg1, tf.math.maximum(arg2,arg3))"
   ]
  },
  {
   "cell_type": "code",
   "execution_count": 21,
   "metadata": {},
   "outputs": [
    {
     "data": {
      "image/png": "[encoded data removed]",
      "text/plain": [
       "<Figure size 432x288 with 1 Axes>"
      ]
     },
     "metadata": {
      "needs_background": "light"
     },
     "output_type": "display_data"
    }
   ],
   "source": [
    "epochs = 200\n",
    "steps = epochs *  31500/32\n",
    "lr_schedule = CustomSchedule(0.03, steps/2)\n",
    "plt.plot(lr_schedule(tf.range(epochs, dtype=tf.float32)))\n",
    "plt.ylabel(\"Learning Rate\")\n",
    "plt.xlabel(\"Train Step\")\n",
    "plt.show()"
   ]
  },
  {
   "cell_type": "code",
   "execution_count": 9,
   "metadata": {},
   "outputs": [
    {
     "name": "stdout",
     "output_type": "stream",
     "text": [
      "Epoch 1/50\n",
      "344/344 [==============================] - 21s 60ms/step - loss: 445.2816 - coef_det_k: 7.8075e-04 - val_loss: 0.0000e+00 - val_coef_det_k: 0.0000e+00\n",
      "Epoch 2/50\n",
      "344/344 [==============================] - 16s 45ms/step - loss: 315.4332 - coef_det_k: 0.2904 - val_loss: 322.6310 - val_coef_det_k: 0.2780\n",
      "Epoch 3/50\n",
      "344/344 [==============================] - 15s 45ms/step - loss: 293.6352 - coef_det_k: 0.3377 - val_loss: 295.7983 - val_coef_det_k: 0.3444\n",
      "Epoch 4/50\n",
      "344/344 [==============================] - 15s 45ms/step - loss: 285.6758 - coef_det_k: 0.3552 - val_loss: 297.8309 - val_coef_det_k: 0.3376\n",
      "Epoch 5/50\n",
      "344/344 [==============================] - 15s 45ms/step - loss: 280.2398 - coef_det_k: 0.3675 - val_loss: 305.0033 - val_coef_det_k: 0.3190\n",
      "Epoch 6/50\n",
      "344/344 [==============================] - 15s 45ms/step - loss: 274.1713 - coef_det_k: 0.3808 - val_loss: 282.0402 - val_coef_det_k: 0.3716\n",
      "Epoch 7/50\n",
      "344/344 [==============================] - 15s 45ms/step - loss: 268.2527 - coef_det_k: 0.3951 - val_loss: 275.6410 - val_coef_det_k: 0.3869\n",
      "Epoch 8/50\n",
      "344/344 [==============================] - 15s 45ms/step - loss: 266.0090 - coef_det_k: 0.4016 - val_loss: 285.5236 - val_coef_det_k: 0.3666\n",
      "Epoch 9/50\n",
      "344/344 [==============================] - 15s 45ms/step - loss: 261.5260 - coef_det_k: 0.4117 - val_loss: 270.1165 - val_coef_det_k: 0.3925\n",
      "Epoch 10/50\n",
      "344/344 [==============================] - 15s 45ms/step - loss: 262.2593 - coef_det_k: 0.4084 - val_loss: 292.9704 - val_coef_det_k: 0.3470\n",
      "Epoch 11/50\n",
      "344/344 [==============================] - 15s 45ms/step - loss: 262.0612 - coef_det_k: 0.4067 - val_loss: 271.5629 - val_coef_det_k: 0.3951\n",
      "Epoch 12/50\n",
      "344/344 [==============================] - 15s 45ms/step - loss: 258.1751 - coef_det_k: 0.4177 - val_loss: 268.9580 - val_coef_det_k: 0.4006\n",
      "Epoch 13/50\n",
      "344/344 [==============================] - 15s 45ms/step - loss: 256.5014 - coef_det_k: 0.4224 - val_loss: 280.5736 - val_coef_det_k: 0.3795\n",
      "Epoch 14/50\n",
      "344/344 [==============================] - 15s 45ms/step - loss: 254.6262 - coef_det_k: 0.4263 - val_loss: 270.4186 - val_coef_det_k: 0.3977\n",
      "Epoch 15/50\n",
      "344/344 [==============================] - 15s 45ms/step - loss: 252.3811 - coef_det_k: 0.4312 - val_loss: 286.5136 - val_coef_det_k: 0.3586\n",
      "Epoch 16/50\n",
      "344/344 [==============================] - 15s 45ms/step - loss: 252.9585 - coef_det_k: 0.4284 - val_loss: 267.6864 - val_coef_det_k: 0.4023\n",
      "Epoch 17/50\n",
      "344/344 [==============================] - 15s 45ms/step - loss: 252.6871 - coef_det_k: 0.4290 - val_loss: 278.7153 - val_coef_det_k: 0.3761\n",
      "Epoch 18/50\n",
      "344/344 [==============================] - 15s 45ms/step - loss: 248.6370 - coef_det_k: 0.4391 - val_loss: 263.5786 - val_coef_det_k: 0.4079\n",
      "Epoch 19/50\n",
      "344/344 [==============================] - 15s 45ms/step - loss: 247.9948 - coef_det_k: 0.4385 - val_loss: 260.4998 - val_coef_det_k: 0.4226\n",
      "Epoch 20/50\n",
      "344/344 [==============================] - 15s 45ms/step - loss: 248.5483 - coef_det_k: 0.4381 - val_loss: 265.4033 - val_coef_det_k: 0.4107\n",
      "Epoch 21/50\n",
      "344/344 [==============================] - 15s 45ms/step - loss: 247.6914 - coef_det_k: 0.4411 - val_loss: 263.1969 - val_coef_det_k: 0.4084\n",
      "Epoch 22/50\n",
      "344/344 [==============================] - 15s 45ms/step - loss: 247.9272 - coef_det_k: 0.4395 - val_loss: 300.0295 - val_coef_det_k: 0.3347\n",
      "Epoch 23/50\n",
      "344/344 [==============================] - 15s 45ms/step - loss: 248.2207 - coef_det_k: 0.4393 - val_loss: 259.6642 - val_coef_det_k: 0.4219\n",
      "Epoch 24/50\n",
      "344/344 [==============================] - 15s 45ms/step - loss: 242.2269 - coef_det_k: 0.4534 - val_loss: 266.9755 - val_coef_det_k: 0.4051\n",
      "Epoch 25/50\n",
      "344/344 [==============================] - 15s 45ms/step - loss: 243.9987 - coef_det_k: 0.4506 - val_loss: 258.6058 - val_coef_det_k: 0.4140\n",
      "Epoch 26/50\n",
      "344/344 [==============================] - 15s 45ms/step - loss: 241.0673 - coef_det_k: 0.4561 - val_loss: 263.3681 - val_coef_det_k: 0.4124\n",
      "Epoch 27/50\n",
      "344/344 [==============================] - 15s 45ms/step - loss: 238.7202 - coef_det_k: 0.4605 - val_loss: 260.7914 - val_coef_det_k: 0.4161\n",
      "Epoch 28/50\n",
      "344/344 [==============================] - 15s 45ms/step - loss: 239.1353 - coef_det_k: 0.4595 - val_loss: 258.1647 - val_coef_det_k: 0.4254\n",
      "Epoch 29/50\n",
      "344/344 [==============================] - 15s 45ms/step - loss: 241.3417 - coef_det_k: 0.4551 - val_loss: 264.1382 - val_coef_det_k: 0.4119\n",
      "Epoch 30/50\n",
      "344/344 [==============================] - 15s 45ms/step - loss: 239.8052 - coef_det_k: 0.4570 - val_loss: 261.4050 - val_coef_det_k: 0.4192\n",
      "Epoch 31/50\n",
      "344/344 [==============================] - 15s 45ms/step - loss: 237.1423 - coef_det_k: 0.4638 - val_loss: 254.7726 - val_coef_det_k: 0.4289\n",
      "Epoch 32/50\n",
      "344/344 [==============================] - 15s 45ms/step - loss: 234.9445 - coef_det_k: 0.4694 - val_loss: 262.2054 - val_coef_det_k: 0.4130\n",
      "Epoch 33/50\n",
      "344/344 [==============================] - 15s 45ms/step - loss: 235.5620 - coef_det_k: 0.4668 - val_loss: 284.2575 - val_coef_det_k: 0.3702\n",
      "Epoch 34/50\n",
      "344/344 [==============================] - 15s 45ms/step - loss: 234.7463 - coef_det_k: 0.4691 - val_loss: 254.1065 - val_coef_det_k: 0.4331\n",
      "Epoch 35/50\n",
      "344/344 [==============================] - 15s 45ms/step - loss: 231.8459 - coef_det_k: 0.4781 - val_loss: 255.1736 - val_coef_det_k: 0.4273\n",
      "Epoch 36/50\n",
      "344/344 [==============================] - 15s 45ms/step - loss: 231.4432 - coef_det_k: 0.4768 - val_loss: 259.7542 - val_coef_det_k: 0.4169\n",
      "Epoch 37/50\n",
      "344/344 [==============================] - 15s 45ms/step - loss: 231.1849 - coef_det_k: 0.4768 - val_loss: 259.1105 - val_coef_det_k: 0.4246\n",
      "Epoch 38/50\n",
      "344/344 [==============================] - 15s 45ms/step - loss: 227.4040 - coef_det_k: 0.4867 - val_loss: 249.0742 - val_coef_det_k: 0.4471\n",
      "Epoch 39/50\n",
      "344/344 [==============================] - 15s 45ms/step - loss: 230.9892 - coef_det_k: 0.4768 - val_loss: 255.0645 - val_coef_det_k: 0.4294\n",
      "Epoch 40/50\n",
      "344/344 [==============================] - 15s 45ms/step - loss: 228.0243 - coef_det_k: 0.4847 - val_loss: 253.1733 - val_coef_det_k: 0.4368\n",
      "Epoch 41/50\n",
      "344/344 [==============================] - 15s 45ms/step - loss: 225.1429 - coef_det_k: 0.4898 - val_loss: 249.2104 - val_coef_det_k: 0.4418\n",
      "Epoch 42/50\n",
      "344/344 [==============================] - 15s 45ms/step - loss: 224.1763 - coef_det_k: 0.4937 - val_loss: 267.2079 - val_coef_det_k: 0.4061\n",
      "Epoch 43/50\n",
      "344/344 [==============================] - 15s 45ms/step - loss: 221.6175 - coef_det_k: 0.4991 - val_loss: 250.3798 - val_coef_det_k: 0.4377\n",
      "Epoch 44/50\n",
      "344/344 [==============================] - 15s 45ms/step - loss: 221.6927 - coef_det_k: 0.4985 - val_loss: 253.1860 - val_coef_det_k: 0.4315\n",
      "Epoch 45/50\n",
      "344/344 [==============================] - 15s 45ms/step - loss: 220.4183 - coef_det_k: 0.5004 - val_loss: 254.4523 - val_coef_det_k: 0.4275\n",
      "Epoch 46/50\n",
      "344/344 [==============================] - 15s 45ms/step - loss: 219.2411 - coef_det_k: 0.5041 - val_loss: 258.9422 - val_coef_det_k: 0.4214\n",
      "Epoch 47/50\n",
      "344/344 [==============================] - 15s 45ms/step - loss: 216.7560 - coef_det_k: 0.5099 - val_loss: 280.1429 - val_coef_det_k: 0.3740\n",
      "Epoch 48/50\n",
      "344/344 [==============================] - 15s 45ms/step - loss: 214.8003 - coef_det_k: 0.5136 - val_loss: 247.6246 - val_coef_det_k: 0.4489\n",
      "Epoch 49/50\n",
      "344/344 [==============================] - 15s 45ms/step - loss: 212.6935 - coef_det_k: 0.5191 - val_loss: 256.1397 - val_coef_det_k: 0.4274\n",
      "Epoch 50/50\n",
      "344/344 [==============================] - 15s 45ms/step - loss: 211.6741 - coef_det_k: 0.5221 - val_loss: 262.7066 - val_coef_det_k: 0.4105\n"
     ]
    },
    {
     "data": {
      "text/plain": [
       "<tensorflow.python.keras.callbacks.History at 0x7f7a0bbf9128>"
      ]
     },
     "execution_count": 9,
     "metadata": {},
     "output_type": "execute_result"
    }
   ],
   "source": [
    "x_train = data_train.shuffle(buffer_size = 50000).batch(64, drop_remainder=True) \n",
    "x_val = data_val.shuffle(buffer_size = 50000).batch(64, drop_remainder=True)\n",
    "\n",
    "epochs = 50\n",
    "\n",
    "model.fit(x_train, epochs=epochs, validation_data = x_val)"
   ]
  },
  {
   "cell_type": "code",
   "execution_count": 11,
   "metadata": {},
   "outputs": [
    {
     "name": "stdout",
     "output_type": "stream",
     "text": [
      "<tf.Variable 'Adam/learning_rate:0' shape=() dtype=float32, numpy=1e-04>\n"
     ]
    }
   ],
   "source": [
    "print(opt.lr)"
   ]
  },
  {
   "cell_type": "code",
   "execution_count": 10,
   "metadata": {},
   "outputs": [],
   "source": [
    "model.save_weights('weights/model_ogt')"
   ]
  },
  {
   "cell_type": "code",
   "execution_count": 14,
   "metadata": {},
   "outputs": [
    {
     "name": "stdout",
     "output_type": "stream",
     "text": [
      "Model: \"classifier_1\"\n",
      "_________________________________________________________________\n",
      "Layer (type)                 Output Shape              Param #   \n",
      "=================================================================\n",
      "res_mod_6 (ResMod)           multiple                  56000     \n",
      "_________________________________________________________________\n",
      "res_mod_7 (ResMod)           multiple                  53376     \n",
      "_________________________________________________________________\n",
      "res_mod_8 (ResMod)           multiple                  237824    \n",
      "_________________________________________________________________\n",
      "res_mod_9 (ResMod)           multiple                  213248    \n",
      "_________________________________________________________________\n",
      "res_mod_10 (ResMod)          multiple                  950784    \n",
      "_________________________________________________________________\n",
      "res_mod_11 (ResMod)          multiple                  1114624   \n",
      "_________________________________________________________________\n",
      "self_attention_1 (SelfAttent multiple                  169       \n",
      "_________________________________________________________________\n",
      "flatten_1 (Flatten)          multiple                  0         \n",
      "_________________________________________________________________\n",
      "dense_2 (Dense)              multiple                  819300    \n",
      "_________________________________________________________________\n",
      "dense_3 (Dense)              multiple                  101       \n",
      "=================================================================\n",
      "Total params: 3,445,426\n",
      "Trainable params: 3,445,426\n",
      "Non-trainable params: 0\n",
      "_________________________________________________________________\n"
     ]
    }
   ],
   "source": [
    "model.summary()"
   ]
  },
  {
   "cell_type": "code",
   "execution_count": 11,
   "metadata": {},
   "outputs": [
    {
     "name": "stdout",
     "output_type": "stream",
     "text": [
      "2448 3334.3493987321854\n"
     ]
    }
   ],
   "source": [
    "\n",
    "x_val = data_val.shuffle(buffer_size = 40000).batch(34, drop_remainder=True)\n",
    "s = 0\n",
    "count = 0\n",
    "for i, x in enumerate(x_val):    \n",
    "    out = model(x[0], training=True)\n",
    "    for j in zip(out, x[1].numpy()):\n",
    "        s += j[0][0].numpy() - j[1]\n",
    "        count += 1\n",
    "\n",
    "print(count, s)"
   ]
  },
  {
   "cell_type": "code",
   "execution_count": null,
   "metadata": {},
   "outputs": [],
   "source": []
  }
 ],
 "metadata": {
  "kernelspec": {
   "display_name": "Python 3",
   "language": "python",
   "name": "python3"
  },
  "language_info": {
   "codemirror_mode": {
    "name": "ipython",
    "version": 3
   },
   "file_extension": ".py",
   "mimetype": "text/x-python",
   "name": "python",
   "nbconvert_exporter": "python",
   "pygments_lexer": "ipython3",
   "version": "3.6.8"
  }
 },
 "nbformat": 4,
 "nbformat_minor": 4
}
