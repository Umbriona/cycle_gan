{
 "cells": [
  {
   "cell_type": "code",
   "execution_count": 1,
   "metadata": {},
   "outputs": [],
   "source": [
    "import os, sys\n",
    "currentdir = os.path.dirname(os.getcwd())\n",
    "sys.path.append(currentdir)\n",
    "\n",
    "import yaml\n",
    "import numpy as np\n",
    "import matplotlib.pyplot as plt\n",
    "\n",
    "from utils import models_new\n",
    "from utils.preprocessing import prepare_dataset_reg"
   ]
  },
  {
   "cell_type": "code",
   "execution_count": 2,
   "metadata": {},
   "outputs": [],
   "source": [
    "os.environ[\"CUDA_VISIBLE_DEVICES\"]=\"1\""
   ]
  },
  {
   "cell_type": "code",
   "execution_count": 3,
   "metadata": {},
   "outputs": [],
   "source": [
    "def load_classifier(config):\n",
    "    vocab         = config['Vocab_size']\n",
    "    filters       = config['filters']\n",
    "    kernels       = config['kernels']\n",
    "    dilations     = config['dilations']\n",
    "    strides       = config['strides']\n",
    "    use_attention = config['use_attention']\n",
    "    file          = config['file']\n",
    "    \n",
    "    reg_model = models_new.Classifier(filters, kernels, strides, dilations, vocab)\n",
    "    reg_model.load_weights(file)\n",
    "    return reg_model\n",
    "\n",
    "def load_data(config):\n",
    "    \"\"\" Function to load all the data \"\"\"\n",
    "    # Parameters\n",
    "    file_thermo = config['file_thermo']\n",
    "    file_meso   = config['file_meso']\n",
    "    seq_length  = config['seq_length']\n",
    "    max_samples = config['max_samples']\n",
    "    \n",
    "    thermo_train, thermo_val, n_thermo_train, n_thermo_val = prepare_dataset(file_thermo, \n",
    "                                                                             seq_length = seq_length,\n",
    "                                                                             max_samples = max_samples)\n",
    "    \n",
    "    meso_train, meso_val, n_meso_train, n_meso_val = prepare_dataset(file_meso,\n",
    "                                                                     seq_length = seq_length,\n",
    "                                                                     max_samples = max_samples)\n",
    "\n",
    "    data = {'thermo_train': thermo_train,\n",
    "            'meso_train': meso_train,\n",
    "            'thermo_val': thermo_val,\n",
    "            'meso_val': meso_val,\n",
    "            'n_thermo_train': n_thermo_train,\n",
    "            'n_meso_train': n_meso_train,\n",
    "            'n_thermo_val': n_thermo_val,\n",
    "            'n_meso_val': n_meso_val}\n",
    "    \n",
    "    return data"
   ]
  },
  {
   "cell_type": "code",
   "execution_count": 4,
   "metadata": {},
   "outputs": [
    {
     "name": "stdout",
     "output_type": "stream",
     "text": [
      "ogt_4_15.fasta 3501\n",
      "ogt_15_26.fasta 3501\n",
      "ogt_26_37.fasta 3501\n",
      "ogt_37_48.fasta 3501\n",
      "ogt_48_59.fasta 3501\n",
      "ogt_59_70.fasta 3501\n",
      "ogt_70_81.fasta 3501\n"
     ]
    }
   ],
   "source": [
    "# Load configuration file\n",
    "with open(\"config.yaml\", 'r') as file_descriptor:\n",
    "    config = yaml.load(file_descriptor, Loader=yaml.FullLoader)\n",
    "model = load_classifier(config['Classifier'])\n",
    "\n",
    "dir_ = '/mnt/Archive/Data_Sets/OGT/ogt_classes'\n",
    "\n",
    "names_class = ['ogt_4_15.fasta', 'ogt_26_37.fasta', 'ogt_48_59.fasta', 'ogt_70_81.fasta']\n",
    "names_reg = ['ogt_4_15.fasta', 'ogt_15_26.fasta', 'ogt_26_37.fasta', 'ogt_37_48.fasta', 'ogt_48_59.fasta', 'ogt_59_70.fasta', 'ogt_70_81.fasta']\n",
    "\n",
    "\n",
    "data_train, data_val = prepare_dataset_reg(dir_, names_reg,\n",
    "                               seq_length = 512,\n",
    "                               t_v_split = 0.1,\n",
    "                               max_samples = 3500)"
   ]
  },
  {
   "cell_type": "code",
   "execution_count": 67,
   "metadata": {},
   "outputs": [
    {
     "name": "stdout",
     "output_type": "stream",
     "text": [
      "2451 3728.8703174591064\n"
     ]
    }
   ],
   "source": [
    "batch_size = 1\n",
    "\n",
    "x_val = data_val.batch(batch_size, drop_remainder=False)\n",
    "s = 0\n",
    "count = 0\n",
    "temp = np.zeros([2448,])\n",
    "pred_temp = np.zeros([2448,])\n",
    "for i, x in enumerate(x_val):    \n",
    "    out = model(x[0], training=True)\n",
    "    temp[i*batch_size:i*batch_size+batch_size] = x[1].numpy()\n",
    "    pred_temp[i*batch_size:i*batch_size+batch_size] = out[0][0].numpy()\n",
    "    for j in zip(out, x[1].numpy()):\n",
    "        s += j[0][0].numpy() - j[1]\n",
    "        count += 1\n",
    "\n",
    "print(count, s)"
   ]
  },
  {
   "cell_type": "code",
   "execution_count": 68,
   "metadata": {},
   "outputs": [],
   "source": [
    "temp = temp + 41.9\n",
    "pred_temp = pred_temp + 41.9"
   ]
  },
  {
   "cell_type": "code",
   "execution_count": 72,
   "metadata": {},
   "outputs": [
    {
     "data": {
      "image/png": "[encoded data removed]",
      "text/plain": [
       "<Figure size 432x288 with 1 Axes>"
      ]
     },
     "metadata": {
      "needs_background": "light"
     },
     "output_type": "display_data"
    }
   ],
   "source": [
    "\n",
    "y,binEdges = np.histogram(temp,bins=10)\n",
    "\n",
    "l = np.zeros_like(y)\n",
    "for i in range(binEdges.size-1):\n",
    "    tmp_1 = temp > binEdges[i]\n",
    "    tmp_2 = temp < binEdges[i+1]\n",
    "    tmp = np.logical_and(tmp_1,tmp_2)\n",
    "\n",
    "    l[i] = np.std(temp[tmp] - pred_temp[tmp])\n",
    "\n",
    "\n",
    "\n",
    "\n",
    "bincenters = 0.5*(binEdges[1:]+binEdges[:-1])\n",
    "width      = 5\n",
    "plt.bar(bincenters, y, width=width, color='r', yerr=l)\n",
    "plt.show()"
   ]
  },
  {
   "cell_type": "code",
   "execution_count": 73,
   "metadata": {},
   "outputs": [
    {
     "name": "stdout",
     "output_type": "stream",
     "text": [
      "[10  9  9 11 13 12 13 12 10  8]\n"
     ]
    }
   ],
   "source": [
    "print(l)"
   ]
  },
  {
   "cell_type": "code",
   "execution_count": 71,
   "metadata": {},
   "outputs": [
    {
     "name": "stdout",
     "output_type": "stream",
     "text": [
      "[66.52627792 52.90303841 43.61835542 20.70944252 49.63135281 33.14695778\n",
      " 28.63151588 46.82748117 26.4898447  24.73755112 67.99482193 70.55284348\n",
      " 26.82173195 56.69394054 31.37362423 27.21461334 29.1343359  56.27755299\n",
      " 43.19748273 47.61014071 21.3084053  26.63566246 71.46311798 26.04377213\n",
      " 45.77184191 31.11428871 60.3805336  28.93396893 27.2632431  68.30638542\n",
      " 62.33928719 28.26828136 44.63343396 35.97951927 65.58664742 62.70008507\n",
      " 64.79005089 58.11945572 63.34420242 34.83598032 73.41376915 22.86250343\n",
      " 27.59158936 25.66887512 54.94051399 59.02554359 34.02282228 66.73535576\n",
      " 28.34789505 42.70577534 21.62170258 57.40275612 32.47396221 15.32780113\n",
      " 32.15272465 34.75800362 21.22830048 20.45355263 66.49085083 58.87764587\n",
      " 37.68493357 54.98618069 18.50114861 16.92570152 34.71021786 31.60971775\n",
      " 46.4017519  47.06943598 65.18207397 29.82969894 19.96582642 24.79905357\n",
      " 38.43199363 66.54083672 46.83138552 24.13640251 71.80404129 39.73338022\n",
      " 39.38670411 34.49565115 32.38740482 29.41414204 64.5169796  30.45185318\n",
      " 48.73684492 20.6410202  65.93262901 42.91239705 21.56308212 18.75214996\n",
      " 59.5341629  51.54795303 31.2024025  64.31109657 64.74750366 26.7810854\n",
      " 49.31483259 27.68402328 47.9895462  67.53968849]\n",
      "[36.9999999  36.9999999  36.9999999  13.00000038 36.9999999   3.99999847\n",
      " 18.00000038 38.9999999  31.00000038 36.9999999  67.00000038 60.00000038\n",
      " 36.9999999  62.00000038 36.9999999  27.00000038  6.99999847 34.9999999\n",
      " 25.00000038 57.00000038  6.99999847 25.00000038 74.99999847 50.00000038\n",
      " 55.00000038 13.00000038 70.00000038 30.00000038 35.9999999  65.00000038\n",
      " 36.9999999  60.00000038 25.00000038 50.00000038 54.00000038 60.00000038\n",
      " 79.99999847 50.00000038 70.00000038 13.00000038 73.99999847 37.9999999\n",
      "  4.99999847 30.00000038 60.00000038 55.00000038 26.00000038 55.00000038\n",
      " 36.9999999  24.00000038 13.00000038 57.00000038 30.00000038 28.00000038\n",
      " 25.00000038 55.00000038 25.00000038 14.00000038 79.99999847 60.00000038\n",
      " 70.00000038 55.00000038 25.00000038  6.99999847 36.9999999  30.00000038\n",
      " 25.00000038 30.00000038 74.99999847 35.9999999  14.00000038 34.9999999\n",
      " 65.00000038 74.99999847 60.00000038 20.00000038 70.00000038 60.00000038\n",
      " 36.9999999  25.00000038 12.00000038 30.00000038 79.99999847 36.9999999\n",
      " 70.00000038 24.00000038 79.99999847 55.00000038 25.00000038 25.00000038\n",
      " 70.00000038 60.00000038 36.9999999  55.00000038 62.00000038  3.99999847\n",
      " 72.00000038 21.00000038 55.00000038 68.00000038]\n"
     ]
    }
   ],
   "source": [
    "print(pred_temp[:100])\n",
    "print(temp[:100])"
   ]
  },
  {
   "cell_type": "code",
   "execution_count": null,
   "metadata": {},
   "outputs": [],
   "source": []
  }
 ],
 "metadata": {
  "kernelspec": {
   "display_name": "Python 3",
   "language": "python",
   "name": "python3"
  },
  "language_info": {
   "codemirror_mode": {
    "name": "ipython",
    "version": 3
   },
   "file_extension": ".py",
   "mimetype": "text/x-python",
   "name": "python",
   "nbconvert_exporter": "python",
   "pygments_lexer": "ipython3",
   "version": "3.6.8"
  }
 },
 "nbformat": 4,
 "nbformat_minor": 4
}
