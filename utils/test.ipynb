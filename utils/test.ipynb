{
 "cells": [
  {
   "cell_type": "code",
   "execution_count": 1,
   "metadata": {},
   "outputs": [
    {
     "name": "stdout",
     "output_type": "stream",
     "text": [
      "build (None, 10, 10)\n",
      "build (None, 21, 10)\n",
      "Model: \"model\"\n",
      "_________________________________________________________________\n",
      "Layer (type)                 Output Shape              Param #   \n",
      "=================================================================\n",
      "input_1 (InputLayer)         [(None, 10, 10)]          0         \n",
      "_________________________________________________________________\n",
      "conv1d_transpose (Conv1DTran (None, 21, 10)            310       \n",
      "_________________________________________________________________\n",
      "output_layer (Conv1DTranspos (None, 43, 10)            310       \n",
      "=================================================================\n",
      "Total params: 620\n",
      "Trainable params: 620\n",
      "Non-trainable params: 0\n",
      "_________________________________________________________________\n"
     ]
    }
   ],
   "source": [
    "\n",
    "import numpy as np\n",
    "from layers import Conv1DTranspose\n",
    "import tensorflow as tf\n",
    "from tensorflow.keras.layers import Input\n",
    "\n",
    "input_x = Input(shape=(10,10))\n",
    "layer_1 = Conv1DTranspose(10, 3, strides=2)\n",
    "layer_2 = Conv1DTranspose(10, 3, strides=2, name=\"output_layer\")\n",
    "x = layer_1(input_x)\n",
    "output = layer_2(x)\n",
    "model = tf.keras.Model(inputs=input_x, outputs=output)\n",
    "model.summary()\n"
   ]
  },
  {
   "cell_type": "code",
   "execution_count": 8,
   "metadata": {},
   "outputs": [],
   "source": []
  },
  {
   "cell_type": "code",
   "execution_count": 9,
   "metadata": {},
   "outputs": [],
   "source": []
  },
  {
   "cell_type": "code",
   "execution_count": null,
   "metadata": {},
   "outputs": [],
   "source": []
  }
 ],
 "metadata": {
  "kernelspec": {
   "display_name": "Python 3",
   "language": "python",
   "name": "python3"
  },
  "language_info": {
   "codemirror_mode": {
    "name": "ipython",
    "version": 3
   },
   "file_extension": ".py",
   "mimetype": "text/x-python",
   "name": "python",
   "nbconvert_exporter": "python",
   "pygments_lexer": "ipython3",
   "version": "3.6.8"
  }
 },
 "nbformat": 4,
 "nbformat_minor": 4
}
